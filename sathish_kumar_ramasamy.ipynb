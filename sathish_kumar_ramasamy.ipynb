{
 "cells": [
  {
   "cell_type": "code",
   "execution_count": null,
   "metadata": {},
   "outputs": [],
   "source": [
    "# Import needed Libraries\n",
    "import pandas as pd\n",
    "import matplotlib.pyplot as plt\n",
    "from matplotlib.lines import Line2D\n",
    "import seaborn as sns\n",
    "import warnings\n",
    "warnings.filterwarnings('ignore')"
   ]
  },
  {
   "cell_type": "code",
   "execution_count": null,
   "metadata": {},
   "outputs": [],
   "source": [
    "# Load the dataset\n",
    "path = 'loan.csv' # Change the path here if different\n",
    "df = pd.read_csv(path)\n"
   ]
  },
  {
   "cell_type": "code",
   "execution_count": null,
   "metadata": {},
   "outputs": [],
   "source": [
    "# Understanding the data: number of entries, columns, datatypes\n",
    "df.head()"
   ]
  },
  {
   "cell_type": "code",
   "execution_count": null,
   "metadata": {},
   "outputs": [],
   "source": [
    "df.info()"
   ]
  },
  {
   "cell_type": "code",
   "execution_count": null,
   "metadata": {},
   "outputs": [],
   "source": [
    "df.describe()"
   ]
  },
  {
   "cell_type": "markdown",
   "metadata": {},
   "source": [
    "# Data Cleaning"
   ]
  },
  {
   "cell_type": "markdown",
   "metadata": {},
   "source": [
    "## Filtering Data"
   ]
  },
  {
   "cell_type": "code",
   "execution_count": null,
   "metadata": {},
   "outputs": [],
   "source": [
    "# Keeping only data relevant for the problem statement: loan status != Current\n",
    "df = df[df.loan_status != 'Current']\n",
    "df.reset_index(drop=True,inplace=True)"
   ]
  },
  {
   "cell_type": "markdown",
   "metadata": {},
   "source": [
    "## Removing unnecessary columns"
   ]
  },
  {
   "cell_type": "code",
   "execution_count": null,
   "metadata": {},
   "outputs": [],
   "source": [
    "# Listing columns with  >50% NA values \n",
    "df.dropna(axis=1,thresh=(df.shape[0]/2),how='all',inplace=True)\n",
    "\n",
    "#Dropping insignificant Columns\n",
    "df.drop(columns=['id','member_id','desc','url','title'],inplace=True)\n",
    "\n",
    "# Dropping Columns with only one unique value\n",
    "nunique = df.nunique()\n",
    "cols_to_drop = nunique[nunique == 1].index\n",
    "df.drop(cols_to_drop, axis=1,inplace=True)\n",
    "df.columns.size"
   ]
  },
  {
   "cell_type": "markdown",
   "metadata": {},
   "source": [
    "## Fixing data types"
   ]
  },
  {
   "cell_type": "code",
   "execution_count": null,
   "metadata": {},
   "outputs": [],
   "source": [
    "# Removing % \n",
    "df.int_rate = df.int_rate.apply(lambda x : float(x.replace('%','')))\n",
    "df.revol_util = df.revol_util.apply(lambda x : float(str(x).replace('%','')))"
   ]
  },
  {
   "cell_type": "code",
   "execution_count": null,
   "metadata": {},
   "outputs": [],
   "source": [
    "def correct_years_beyond_1969(dt):\n",
    "    current_year = pd.to_datetime('now').year\n",
    "    if dt.year > current_year:\n",
    "        dt = dt.replace(year=dt.year-100)\n",
    "    return dt"
   ]
  },
  {
   "cell_type": "code",
   "execution_count": null,
   "metadata": {},
   "outputs": [],
   "source": [
    "# Converting dates in string format to datetime format of pandas\n",
    "current_year = pd.to_datetime('now').year\n",
    "df.issue_d = pd.to_datetime(df.issue_d, format='%b-%y').apply(lambda x : correct_years_beyond_1969(x))\n",
    "df.earliest_cr_line = pd.to_datetime(df.earliest_cr_line,format='%b-%y').apply(lambda x : correct_years_beyond_1969(x))\n",
    "df.last_pymnt_d = pd.to_datetime(df.last_pymnt_d,format='%b-%y').apply(lambda x : correct_years_beyond_1969(x))\n",
    "df.last_credit_pull_d = pd.to_datetime(df.last_credit_pull_d,format='%b-%y').apply(lambda x : correct_years_beyond_1969(x))"
   ]
  },
  {
   "cell_type": "markdown",
   "metadata": {},
   "source": [
    "## Fix Missing Values"
   ]
  },
  {
   "cell_type": "markdown",
   "metadata": {},
   "source": [
    "### Imputing Missing Values\n"
   ]
  },
  {
   "cell_type": "code",
   "execution_count": null,
   "metadata": {},
   "outputs": [],
   "source": [
    "# Imputing Missing values for revol_util with mean\n",
    "revol_util_mean = df.revol_util.mean()\n",
    "df.revol_util.fillna(value=revol_util_mean,inplace=True)\n",
    "\n",
    "# Imputing Missing values for pub_rec_bankruptcies with median as it is a representative figure and should be a whole number\n",
    "prb_median = df.pub_rec_bankruptcies.median()\n",
    "df.pub_rec_bankruptcies.fillna(value=prb_median,inplace=True)\n",
    "\n",
    "# Imputing Missing values for emp_length with Missing year (new category)\n",
    "df.emp_length.fillna(value='Missing Year',inplace=True)\n"
   ]
  },
  {
   "cell_type": "markdown",
   "metadata": {},
   "source": [
    "## Fixing Outliers"
   ]
  },
  {
   "cell_type": "code",
   "execution_count": null,
   "metadata": {},
   "outputs": [],
   "source": [
    "# One value in below category heavily skews the variate analysis\n",
    "df.drop(df[(df.term == ' 60 months') & (df.home_ownership == 'OTHER')].index,inplace=True)\n",
    "df.drop(df[(df.purpose == 'moving') & (df.home_ownership == 'OTHER')].index,inplace=True)\n",
    "df.reset_index(drop=True,inplace=True)"
   ]
  },
  {
   "cell_type": "markdown",
   "metadata": {},
   "source": [
    "# Intermediate data separation"
   ]
  },
  {
   "cell_type": "code",
   "execution_count": null,
   "metadata": {},
   "outputs": [],
   "source": [
    "df_co =  df[df.loan_status == 'Charged Off']\n",
    "df_fp = df[df.loan_status == 'Fully Paid']"
   ]
  },
  {
   "cell_type": "markdown",
   "metadata": {},
   "source": [
    "# Univariate Analysis"
   ]
  },
  {
   "cell_type": "code",
   "execution_count": null,
   "metadata": {},
   "outputs": [],
   "source": [
    "# id, member_id are unique. It doesn't make sense to do univariate analysis on those columns\n",
    "# Univariate analysis on loan_amnt\n",
    "plt.boxplot(df.loan_amnt)\n",
    "plt.ylabel('Loan Amount')\n",
    "plt.xticks([1],['Loan Applicants'])\n",
    "plt.title('Loan Amount Distribution')\n",
    "plt.show()"
   ]
  },
  {
   "cell_type": "code",
   "execution_count": null,
   "metadata": {},
   "outputs": [],
   "source": [
    "# Univariate analysis on funded_amnt\n",
    "plt.boxplot(df.funded_amnt)\n",
    "plt.ylabel('Funded Amount')\n",
    "plt.xticks([1],['Loan Applicants'])\n",
    "plt.title('Funded Amount Distribution')\n",
    "plt.show()"
   ]
  },
  {
   "cell_type": "code",
   "execution_count": null,
   "metadata": {},
   "outputs": [],
   "source": [
    "# Univariate analysis on funded_amnt_inv\n",
    "plt.boxplot(df.funded_amnt_inv)\n",
    "plt.ylabel('Funded Amount Investors')\n",
    "plt.xticks([1],['Loan Applicants'])\n",
    "plt.title('Funded Amount by Investors Distribution')\n",
    "plt.show()"
   ]
  },
  {
   "cell_type": "code",
   "execution_count": null,
   "metadata": {},
   "outputs": [],
   "source": [
    "# Univariate analysis on term\n",
    "df.term.value_counts().sort_index().plot.bar()\n",
    "plt.ylabel('Frequency')\n",
    "plt.xticks(rotation=0)\n",
    "plt.title('Frequency Distribution of Loan Term')\n",
    "plt.show()"
   ]
  },
  {
   "cell_type": "code",
   "execution_count": null,
   "metadata": {},
   "outputs": [],
   "source": [
    "# Univariate analysis on int_rate\n",
    "plt.boxplot(df.int_rate)\n",
    "plt.ylabel('Interest Rate in %')\n",
    "plt.xticks([1],['Loan Applicants'])\n",
    "plt.title('Interest Rate Distribution')\n",
    "plt.show()"
   ]
  },
  {
   "cell_type": "code",
   "execution_count": null,
   "metadata": {},
   "outputs": [],
   "source": [
    "# Univariate analysis on installment\n",
    "plt.boxplot(df.installment)\n",
    "plt.ylabel('Installment amount')\n",
    "plt.xticks([1],['Loan Applicants'])\n",
    "plt.title('Installment Amount Distribution')\n",
    "plt.show()"
   ]
  },
  {
   "cell_type": "code",
   "execution_count": null,
   "metadata": {},
   "outputs": [],
   "source": [
    "# Univariate analysis on Loan Grade\n",
    "df.grade.value_counts().plot.bar()\n",
    "plt.ylabel('Frequency')\n",
    "plt.xlabel('Loan Grade')\n",
    "plt.xticks(rotation=0)\n",
    "plt.title('Frequency Distribution of Loan Grade')\n",
    "plt.show()"
   ]
  },
  {
   "cell_type": "code",
   "execution_count": null,
   "metadata": {},
   "outputs": [],
   "source": [
    "# Univariate analysis on Loan Sub Grade\n",
    "plt.figure(figsize=(10,5))\n",
    "df.sub_grade.value_counts().plot.bar()\n",
    "plt.ylabel('Frequency')\n",
    "plt.xlabel('Loan Sub Grade')\n",
    "plt.title('Frequency Distribution of Loan Sub Grade')\n",
    "plt.show()"
   ]
  },
  {
   "cell_type": "code",
   "execution_count": null,
   "metadata": {},
   "outputs": [],
   "source": [
    "# Univariate analysis on Employment Length\n",
    "df.emp_length.value_counts().plot.bar()\n",
    "plt.ylabel('Frequency')\n",
    "plt.xlabel('Employment Length in years')\n",
    "plt.title('Frequency Distribution of Borrower\\'s Employment Length')\n",
    "plt.show()"
   ]
  },
  {
   "cell_type": "code",
   "execution_count": null,
   "metadata": {},
   "outputs": [],
   "source": [
    "# Univariate analysis on Home Ownership\n",
    "df.home_ownership.value_counts().plot.bar()\n",
    "plt.ylabel('Frequency')\n",
    "plt.xlabel('Home Ownership Status')\n",
    "plt.xticks(rotation=0)\n",
    "plt.title('Frequency Distribution of Home Ownership Status')\n",
    "plt.show()"
   ]
  },
  {
   "cell_type": "code",
   "execution_count": null,
   "metadata": {},
   "outputs": [],
   "source": [
    "# Univariate analysis on annual_inc\n",
    "plt.boxplot(df.annual_inc)\n",
    "plt.ylabel('Annual Income')\n",
    "plt.xticks([1],['Loan Applicants'])\n",
    "plt.title('Annual Income Distribution')\n",
    "plt.show()"
   ]
  },
  {
   "cell_type": "code",
   "execution_count": null,
   "metadata": {},
   "outputs": [],
   "source": [
    "# Univariate analysis on Verification Status\n",
    "df.verification_status.value_counts().plot.bar()\n",
    "plt.ylabel('Frequency')\n",
    "plt.xlabel('Verification Status')\n",
    "plt.xticks(rotation=0)\n",
    "plt.title('Frequency Distribution of Verification Status')\n",
    "plt.show()\n"
   ]
  },
  {
   "cell_type": "code",
   "execution_count": null,
   "metadata": {},
   "outputs": [],
   "source": [
    "# Univariate analysis on Issue date\n",
    "df.issue_d.dt.year.value_counts().sort_index().plot.bar()\n",
    "plt.ylabel('Loans Issued')\n",
    "plt.xlabel('Issuing Year')\n",
    "plt.xticks(rotation=0)\n",
    "plt.title('Distribution of Loans Issued across years')\n",
    "plt.show()"
   ]
  },
  {
   "cell_type": "code",
   "execution_count": null,
   "metadata": {},
   "outputs": [],
   "source": [
    "# Univariate analysis on Purpose\n",
    "plt.figure(figsize=(10,5))\n",
    "df.purpose.value_counts().plot.bar()\n",
    "plt.ylabel('Frequency')\n",
    "plt.xlabel('Purpose')\n",
    "plt.xticks(rotation=90)\n",
    "plt.title('Frequency Distribution of Purpose')\n",
    "plt.show()"
   ]
  },
  {
   "cell_type": "code",
   "execution_count": null,
   "metadata": {},
   "outputs": [],
   "source": [
    "# Univariate analysis on State\n",
    "plt.figure(figsize=(13,7))\n",
    "df.addr_state.value_counts().plot.bar()\n",
    "plt.ylabel('Frequency')\n",
    "plt.xlabel('State')\n",
    "plt.xticks(rotation=90)\n",
    "plt.title('Frequency Distribution of State')\n",
    "plt.show()"
   ]
  },
  {
   "cell_type": "code",
   "execution_count": null,
   "metadata": {},
   "outputs": [],
   "source": [
    "# Univariate analysis on dti\n",
    "plt.boxplot(df.dti)\n",
    "plt.ylabel('Debt to Income Ratio')\n",
    "plt.xticks([1],['Loan Applicants'])\n",
    "plt.title('Debt to Income Ratio Distribution')\n",
    "plt.show()"
   ]
  },
  {
   "cell_type": "code",
   "execution_count": null,
   "metadata": {},
   "outputs": [],
   "source": [
    "# Univariate analysis on delinq_2yrs\n",
    "df.delinq_2yrs.value_counts().plot.bar()\n",
    "plt.ylabel('Frequency')\n",
    "plt.xlabel('Deliquent Incidences in 2 years')\n",
    "plt.xticks(rotation=90)\n",
    "plt.title('Frequency Distribution across Deliquent Incidences in 2 years ')\n",
    "plt.show()"
   ]
  },
  {
   "cell_type": "code",
   "execution_count": null,
   "metadata": {},
   "outputs": [],
   "source": [
    "# Univariate analysis on Earliest Credit Line\n",
    "df.earliest_cr_line.dt.year.plot.hist(edgecolor='white',color='brown',bins=10)\n",
    "plt.ylabel('Frequency')\n",
    "plt.xlabel('Year of Earliest LOC')\n",
    "plt.xticks(rotation=0)\n",
    "plt.title('Frequency Distribution w.r.t Earliest LOC')\n",
    "plt.show()\n"
   ]
  },
  {
   "cell_type": "code",
   "execution_count": null,
   "metadata": {},
   "outputs": [],
   "source": [
    "# Univariate analysis on Number of Inquiries in the last 6 months\n",
    "df.inq_last_6mths.value_counts().plot.bar()\n",
    "plt.ylabel('Frequency')\n",
    "plt.xlabel('Number of Inquiries in the last 6 months')\n",
    "plt.xticks(rotation=0)\n",
    "plt.title('Frequency Distribution across Number of Inquiries in the last 6 months')\n",
    "plt.show()"
   ]
  },
  {
   "cell_type": "code",
   "execution_count": null,
   "metadata": {},
   "outputs": [],
   "source": [
    "# Univariate analysis on Open Credit Lines\n",
    "plt.boxplot(df.open_acc)\n",
    "plt.ylabel('Open Credit Lines')\n",
    "plt.xticks([1],['Loan Applicants'])\n",
    "plt.title('Open Credit Lines Distribution')\n",
    "plt.show()"
   ]
  },
  {
   "cell_type": "code",
   "execution_count": null,
   "metadata": {},
   "outputs": [],
   "source": [
    "# Univariate analysis on Public Records\n",
    "df.pub_rec.value_counts().plot.bar()\n",
    "plt.ylabel('Frequency')\n",
    "plt.xlabel('Public Records')\n",
    "plt.xticks(rotation=0)\n",
    "plt.title('Frequency Distribution across Public Records')\n",
    "plt.show()"
   ]
  },
  {
   "cell_type": "code",
   "execution_count": null,
   "metadata": {},
   "outputs": [],
   "source": [
    "# Univariate analysis on Revolving Balance\n",
    "plt.boxplot(df.revol_bal)\n",
    "plt.ylabel('Revolving Balance')\n",
    "plt.xticks([1],['Loan Applicants'])\n",
    "plt.title('Revolving Balance Distribution')\n",
    "plt.show()"
   ]
  },
  {
   "cell_type": "code",
   "execution_count": null,
   "metadata": {},
   "outputs": [],
   "source": [
    "# Univariate analysis on Revolving Line Util. Rate\n",
    "df.revol_util.plot.hist(edgecolor='white',color='brown',bins=50)\n",
    "plt.ylabel('Frequency')\n",
    "plt.xlabel('Revolving Line Util Rate')\n",
    "plt.xticks(rotation=0)\n",
    "plt.title('Frequency Distribution w.r.t Revolving Line Util Rate')\n",
    "plt.show()\n"
   ]
  },
  {
   "cell_type": "code",
   "execution_count": null,
   "metadata": {},
   "outputs": [],
   "source": [
    "# Univariate analysis on Total Credit Lines\n",
    "plt.boxplot(df.total_acc)\n",
    "plt.ylabel('Total Credit Lines')\n",
    "plt.xticks([1],['Loan Applicants'])\n",
    "plt.title('Total Credit Lines Distribution')\n",
    "plt.show()"
   ]
  },
  {
   "cell_type": "code",
   "execution_count": null,
   "metadata": {},
   "outputs": [],
   "source": [
    "# Univariate analysis on Payment Received for total amnt\n",
    "plt.boxplot(df.total_pymnt)\n",
    "plt.ylabel('Payment Received for total amount')\n",
    "plt.xticks([1],['Loan Applicants'])\n",
    "plt.title('Total Received Payment Distribution')\n",
    "plt.show()"
   ]
  },
  {
   "cell_type": "code",
   "execution_count": null,
   "metadata": {},
   "outputs": [],
   "source": [
    "# Univariate analysis on Payment Received for total amnt by investors\n",
    "plt.boxplot(df.total_pymnt_inv)\n",
    "plt.ylabel('Payment Received for total amount (Investors)')\n",
    "plt.xticks([1],['Loan Applicants'])\n",
    "plt.title('Total Received Payment (Investors) Distribution')\n",
    "plt.show()"
   ]
  },
  {
   "cell_type": "code",
   "execution_count": null,
   "metadata": {},
   "outputs": [],
   "source": [
    "# Univariate analysis on Total Received Principal\n",
    "plt.boxplot(df.total_rec_prncp)\n",
    "plt.ylabel('Total Received Principal')\n",
    "plt.xticks([1],['Loan Applicants'])\n",
    "plt.title('Total Received Principal Distribution')\n",
    "plt.show()"
   ]
  },
  {
   "cell_type": "code",
   "execution_count": null,
   "metadata": {},
   "outputs": [],
   "source": [
    "# Univariate analysis on Total Received Interest\n",
    "plt.boxplot(df.total_rec_int)\n",
    "plt.ylabel('Total Received Interest')\n",
    "plt.xticks([1],['Loan Applicants'])\n",
    "plt.title('Total Received Interest Distribution')\n",
    "plt.show()"
   ]
  },
  {
   "cell_type": "code",
   "execution_count": null,
   "metadata": {},
   "outputs": [],
   "source": [
    "# Univariate analysis on Total Received Late Fee\n",
    "plt.boxplot(df.total_rec_late_fee)\n",
    "plt.ylabel('Total Received Late Fee')\n",
    "plt.xticks([1],['Loan Applicants'])\n",
    "plt.title('Total Received Late Fee Distribution')\n",
    "plt.show()"
   ]
  },
  {
   "cell_type": "code",
   "execution_count": null,
   "metadata": {},
   "outputs": [],
   "source": [
    "# Univariate analysis on recoveries\n",
    "plt.boxplot(df.recoveries)\n",
    "plt.ylabel('Recoveries')\n",
    "plt.xticks([1],['Loan Applicants'])\n",
    "plt.title('Recoveries Distribution')\n",
    "plt.show()"
   ]
  },
  {
   "cell_type": "code",
   "execution_count": null,
   "metadata": {},
   "outputs": [],
   "source": [
    "# Univariate analysis on Charge Off Collection Fees\n",
    "plt.boxplot(df.collection_recovery_fee)\n",
    "plt.ylabel('Charge Off Collection Fees')\n",
    "plt.xticks([1],['Loan Applicants'])\n",
    "plt.title('Charge Off Collection Fees Distribution')\n",
    "plt.show()"
   ]
  },
  {
   "cell_type": "code",
   "execution_count": null,
   "metadata": {},
   "outputs": [],
   "source": [
    "# Univariate analysis on Last Payment date\n",
    "df.last_pymnt_d.dt.year.value_counts().sort_index().plot.bar()\n",
    "plt.ylabel('Frequency')\n",
    "plt.xlabel('Last Payment Year')\n",
    "plt.xticks(rotation=90)\n",
    "plt.title('Distribution of Loans w.r.t Last payment year')\n",
    "plt.show()"
   ]
  },
  {
   "cell_type": "code",
   "execution_count": null,
   "metadata": {},
   "outputs": [],
   "source": [
    "# Univariate analysis on Last Total Payment\n",
    "plt.boxplot(df.last_pymnt_amnt)\n",
    "plt.ylabel('Last Total Payment')\n",
    "plt.xticks([1],['Loan Applicants'])\n",
    "plt.title('Last Total Payment Distribution')\n",
    "plt.show()"
   ]
  },
  {
   "cell_type": "code",
   "execution_count": null,
   "metadata": {},
   "outputs": [],
   "source": [
    "# Univariate analysis on Last Credit Pull Year\n",
    "df.last_credit_pull_d.dt.year.value_counts().sort_index().plot.bar()\n",
    "plt.ylabel('Frequency')\n",
    "plt.xlabel('Last Credit Pull Year')\n",
    "plt.xticks(rotation=90)\n",
    "plt.title('Distribution of Loans w.r.t Last Credit Pull Year')\n",
    "plt.show()"
   ]
  },
  {
   "cell_type": "code",
   "execution_count": null,
   "metadata": {},
   "outputs": [],
   "source": [
    "# Univariate analysis on Public Record bankruptcies\n",
    "df.pub_rec_bankruptcies.value_counts().sort_index().plot.bar()\n",
    "plt.ylabel('Frequency')\n",
    "plt.xlabel('Public Record bankruptcies')\n",
    "plt.xticks(rotation=0)\n",
    "plt.title('Distribution of Loans w.r.t Public Record bankruptcies')\n",
    "plt.show()"
   ]
  },
  {
   "cell_type": "markdown",
   "metadata": {},
   "source": [
    "# Segmented Univariate Analysis"
   ]
  },
  {
   "cell_type": "code",
   "execution_count": null,
   "metadata": {},
   "outputs": [],
   "source": [
    "def display_bar_height_in_percent(ax):\n",
    "    for c in ax.containers:\n",
    "        #Customize the labels\n",
    "        labels = [str(v.get_height()) + '%'  if v.get_height() > 0 else '' for v in c]\n",
    "        ax.bar_label(c, labels=labels, label_type='center')"
   ]
  },
  {
   "cell_type": "code",
   "execution_count": null,
   "metadata": {},
   "outputs": [],
   "source": [
    "# id, member_id are unique. It doesn't make sense to do Segmented univariate analysis using those columns\n",
    "# Segmented Univariate analysis using loan_amnt\n",
    "fig, ax = plt.subplots()\n",
    "ax.boxplot([df_co.loan_amnt,df_fp.loan_amnt])\n",
    "plt.ylabel('Loan Amount')\n",
    "plt.xlabel('Loan Status')\n",
    "plt.title('Loan Amount Distribution across loan statuses')\n",
    "plt.xticks([1,2],['Charged Off','Fully Paid'])\n",
    "plt.show()\n",
    "\n",
    "\"\"\"Loan Amount doesn't seem to influence the loan status much as both charged off and fully paid has approximately same IQR\"\"\""
   ]
  },
  {
   "cell_type": "code",
   "execution_count": null,
   "metadata": {},
   "outputs": [],
   "source": [
    "# Segmented Univariate analysis using funded_amnt\n",
    "fig, ax = plt.subplots()\n",
    "ax.boxplot([df_co.funded_amnt,df_fp.funded_amnt])\n",
    "plt.ylabel('Funded Amount')\n",
    "plt.xlabel('Loan Status')\n",
    "plt.title('Funded Amount Distribution across loan statuses')\n",
    "plt.xticks([1,2],['Charged Off','Fully Paid'])\n",
    "plt.show()\n",
    "\n",
    "\"\"\"Funded Amount doesn't seem to influence the loan status much as both charged off and fully paid has approximately same IQR\"\"\""
   ]
  },
  {
   "cell_type": "code",
   "execution_count": null,
   "metadata": {},
   "outputs": [],
   "source": [
    "# Segmented Univariate analysis using funded_amnt_inv\n",
    "fig, ax = plt.subplots()\n",
    "ax.boxplot([df_co.funded_amnt_inv,df_fp.funded_amnt_inv])\n",
    "plt.ylabel('Funded Amount from Investors')\n",
    "plt.xlabel('Loan Status')\n",
    "plt.title('Funded Amount from Investors Distribution across loan statuses')\n",
    "plt.xticks([1,2],['Charged Off','Fully Paid'])\n",
    "plt.show()\n",
    "\n",
    "\"\"\"Funded Amount from Investors doesn't seem to influence the loan status much as both charged off and fully paid has approximately same IQR\"\"\""
   ]
  },
  {
   "cell_type": "code",
   "execution_count": null,
   "metadata": {},
   "outputs": [],
   "source": [
    "# Segmented Univariate analysis using term\n",
    "df.groupby(['term','loan_status'])['loan_status'].count().unstack().plot(kind='bar', stacked=True)\n",
    "plt.xticks(rotation=0)\n",
    "plt.ylabel('# Loan Applications')\n",
    "plt.title('Loan Status Distribution across terms')\n",
    "plt.show()\n",
    "\"\"\"Loan Applicants with the term 60 months are more likely to default than that of 36 months\"\"\""
   ]
  },
  {
   "cell_type": "code",
   "execution_count": null,
   "metadata": {},
   "outputs": [],
   "source": [
    "# Segmented Univariate analysis using int_rate\n",
    "fig, ax = plt.subplots()\n",
    "ax.boxplot([df_co.int_rate,df_fp.int_rate])\n",
    "plt.ylabel('Interest Rate')\n",
    "plt.xlabel('Loan Status')\n",
    "plt.title('Interest Rate Distribution across loan statuses')\n",
    "plt.xticks([1,2],['Charged Off','Fully Paid'])\n",
    "plt.show()\n",
    "\n",
    "\"\"\"Loan Applicants who got loan for higher interest rates are more likely to default than that of lower interest rates\"\"\""
   ]
  },
  {
   "cell_type": "code",
   "execution_count": null,
   "metadata": {},
   "outputs": [],
   "source": [
    "# Segmented Univariate analysis using installment\n",
    "fig, ax = plt.subplots()\n",
    "ax.boxplot([df_co.installment,df_fp.installment])\n",
    "plt.ylabel('Monthly Installment')\n",
    "plt.xlabel('Loan Status')\n",
    "plt.title('Monthly Installment Distribution across loan statuses')\n",
    "plt.xticks([1,2],['Charged Off','Fully Paid'])\n",
    "plt.show()\n",
    "\"\"\"Monthly Installment Amount doesn't seem to influence the loan status much as both charged off and fully paid has approximately same IQR\"\"\""
   ]
  },
  {
   "cell_type": "code",
   "execution_count": null,
   "metadata": {},
   "outputs": [],
   "source": [
    "# Segmented Univariate analysis using grade\n",
    "df_grouped = df.groupby(['grade','loan_status'])['loan_status'].count().unstack()\n",
    "df_grouped.apply(lambda x : round(x*100/x.sum()),axis=1).plot(kind='bar', stacked=True)\n",
    "plt.xticks(rotation=0)\n",
    "plt.ylabel('Loans Distribution (%)')\n",
    "plt.title('Loan Status Distribution across grades')\n",
    "plt.show()\n",
    "\n",
    "\"\"\"Loan Applicants with grades E,F,G are more likely to default than that of others. This correlates with interest rates analysis since E,F,G grades has higher interest rates\"\"\""
   ]
  },
  {
   "cell_type": "code",
   "execution_count": null,
   "metadata": {},
   "outputs": [],
   "source": [
    "# Segmented Univariate analysis using sub_grade\n",
    "df_grouped = df.groupby(['sub_grade','loan_status'])['loan_status'].count().unstack()\n",
    "df_grouped.apply(lambda x : round(x*100/x.sum()),axis=1).plot(kind='bar', stacked=True)\n",
    "plt.xticks(rotation=90)\n",
    "plt.ylabel('Loans Distribution (%)')\n",
    "plt.xlabel('Sub Grade')\n",
    "plt.title('Loan Status Distribution across sub grades')\n",
    "plt.show()\n",
    "\n",
    "\"\"\"Loan Applicants with subgrades E1,E2 ... G5 are more likely to default than that of others. This correlates with interest rates analysis since E1 to G5 sub grades has higher interest rates\"\"\""
   ]
  },
  {
   "cell_type": "code",
   "execution_count": null,
   "metadata": {},
   "outputs": [],
   "source": [
    "# Segmented Univariate analysis using emp_length\n",
    "df_grouped = df.groupby(['emp_length','loan_status'])['loan_status'].count().unstack()\n",
    "df_grouped.apply(lambda x : round(x*100/x.sum()),axis=1).plot(kind='bar', stacked=True)\n",
    "plt.xticks(rotation=90)\n",
    "plt.ylabel('Loans Distribution (%)')\n",
    "plt.title('Loan Status Distribution (%) across Employment Length in years')\n",
    "plt.show()\n",
    "\n",
    "\"\"\"Employment length doesn't seem to influence the loan status much as the % of defaulters remained constant across different employment length\"\"\""
   ]
  },
  {
   "cell_type": "code",
   "execution_count": null,
   "metadata": {},
   "outputs": [],
   "source": [
    "# Segmented Univariate analysis using home_ownership\n",
    "df_grouped = df.groupby(['home_ownership','loan_status'])['loan_status'].count().unstack()\n",
    "df_grouped.apply(lambda x : round(x*100/x.sum()),axis=1).plot(kind='bar', stacked=True)\n",
    "plt.xticks(rotation=90)\n",
    "plt.ylabel('Loans Distribution (%)')\n",
    "plt.xlabel('Home Ownership')\n",
    "plt.title('Loan Status Distribution (%) across Home Ownership')\n",
    "plt.show()\n",
    "\n",
    "#TODO: Explain more on NONE Home ownership\n",
    "\n",
    "\"\"\"Home Ownership doesn't seem to influence the loan status much as the % of defaulters remained constant across different Home Ownership. However, Home Ownership= None has no defaulters. \"\"\""
   ]
  },
  {
   "cell_type": "code",
   "execution_count": null,
   "metadata": {},
   "outputs": [],
   "source": [
    "# Segmented Univariate analysis using annual_inc\n",
    "\n",
    "# Remove the outliers to make IQR visible and comparable\n",
    "df_co_90 = df_co[df_co.annual_inc <= df_co.annual_inc.quantile(0.90)]\n",
    "df_fp_90 = df_fp[df_fp.annual_inc <= df_fp.annual_inc.quantile(0.90)]\n",
    "fig, ax = plt.subplots()\n",
    "ax.boxplot([df_co_90.annual_inc,df_fp_90.annual_inc])\n",
    "plt.ylabel('Annual Income')\n",
    "plt.xlabel('Loan Status')\n",
    "plt.title('Annual Income Distribution across loan statuses')\n",
    "plt.xticks([1,2],['Charged Off','Fully Paid'])\n",
    "plt.show()\n",
    "\n",
    "\"\"\"Loan Applicants who has lesser Annual Income are likely to default than that of higher annual income\"\"\""
   ]
  },
  {
   "cell_type": "code",
   "execution_count": null,
   "metadata": {},
   "outputs": [],
   "source": [
    "# Segmented Univariate analysis using Income Verification Status\n",
    "df_grouped = df.groupby(['verification_status','loan_status'])['loan_status'].count().unstack()\n",
    "ax = df_grouped.apply(lambda x : round(x*100/x.sum()),axis=1).plot(kind='bar', stacked=True)\n",
    "display_bar_height_in_percent(ax)\n",
    "plt.xticks(rotation=0)\n",
    "plt.ylabel('Loans Distribution (%)')\n",
    "plt.xlabel('Income Verification Status')\n",
    "plt.title('Loan Status Distribution (%) across Income Verification Status')\n",
    "plt.show()\n",
    "\n",
    "\"\"\"Surpisingly Loan Applications whose Income is verified defaults more than others by atleast 2%. May be verification process needs to be revisited \"\"\""
   ]
  },
  {
   "cell_type": "code",
   "execution_count": null,
   "metadata": {},
   "outputs": [],
   "source": [
    "# TODO: Leaving out issue_d, zip_code, addr_state, earliest_cr_line,last_pymnt_d,last_credit_pull_d"
   ]
  },
  {
   "cell_type": "code",
   "execution_count": null,
   "metadata": {},
   "outputs": [],
   "source": [
    "# Segmented Univariate analysis using purpose\n",
    "df_grouped = df.groupby(['purpose','loan_status'])['loan_status'].count().unstack()\n",
    "ax = df_grouped.apply(lambda x : round(x*100/x.sum()),axis=1).plot(kind='bar', stacked=True,figsize=(10,5))\n",
    "plt.xticks(rotation=90)\n",
    "plt.ylabel('Loans Distribution (%)')\n",
    "plt.xlabel('Purpose')\n",
    "plt.title('Loan Status Distribution (%) across Purpose')\n",
    "plt.show()\n",
    "\n",
    "\"\"\"Loan Applicants for the purpose of Small Business tend to default more than other purposes by a huge difference between 8 % - 17 %\"\"\""
   ]
  },
  {
   "cell_type": "code",
   "execution_count": null,
   "metadata": {},
   "outputs": [],
   "source": [
    "# Segmented Univariate analysis using dti\n",
    "fig, ax = plt.subplots()\n",
    "ax.boxplot([df_co.dti,df_fp.dti])\n",
    "plt.ylabel('Debt to Income Ratio')\n",
    "plt.xlabel('Loan Status')\n",
    "plt.title('Debt to Income Ratio across loan statuses')\n",
    "plt.xticks([1,2],['Charged Off','Fully Paid'])\n",
    "plt.show()\n",
    "\n",
    "\"\"\"It appears that loan applications with higher debt to income ratio likely to default. But this is not a strong indicator as the difference of dti between them in mean and 75th percentile is merely ~1 \"\"\""
   ]
  },
  {
   "cell_type": "code",
   "execution_count": null,
   "metadata": {},
   "outputs": [],
   "source": [
    "# Segmented Univariate analysis using delinq_2yrs\n",
    "fig, ax = plt.subplots()\n",
    "ax.boxplot([df_co.delinq_2yrs,df_fp.delinq_2yrs])\n",
    "plt.ylabel('Delinquency in last 2 years')\n",
    "plt.xlabel('Loan Status')\n",
    "plt.title('Delinquency in last 2 years across loan statuses')\n",
    "plt.xticks([1,2],['Charged Off','Fully Paid'])\n",
    "plt.show()\n",
    "\n",
    "\"\"\"Delinquency in last 2 years doesn't influence the likelihood of loan defaults as 85% of values are 0 for both loan statuses\"\"\""
   ]
  },
  {
   "cell_type": "code",
   "execution_count": null,
   "metadata": {},
   "outputs": [],
   "source": [
    "# Segmented Univariate analysis using number of inquiries in last 6 months\n",
    "fig, ax = plt.subplots()\n",
    "ax.boxplot([df_co.inq_last_6mths,df_fp.inq_last_6mths])\n",
    "plt.ylabel('# Inquiries in last 6 months')\n",
    "plt.xlabel('Loan Status')\n",
    "plt.title('Inquiries in last 6 months across loan statuses')\n",
    "plt.xticks([1,2],['Charged Off','Fully Paid'])\n",
    "plt.show()\n",
    "\n",
    "\"\"\"Loan Applicatns with atleast 1 inquiry in last 6 months is likely to default compared to the ones with 0 inquiries\"\"\""
   ]
  },
  {
   "cell_type": "code",
   "execution_count": null,
   "metadata": {},
   "outputs": [],
   "source": [
    "# Segmented Univariate analysis using open credit lines\n",
    "fig, ax = plt.subplots()\n",
    "ax.boxplot([df_co.open_acc,df_fp.open_acc])\n",
    "plt.ylabel('# Open Credit Lines')\n",
    "plt.xlabel('Loan Status')\n",
    "plt.title('Open Credit Lines across loan statuses')\n",
    "plt.xticks([1,2],['Charged Off','Fully Paid'])\n",
    "plt.show()\n",
    "\n",
    "\n",
    "\"\"\"Open Credit Lines doesn't influence the likelihood of defaulting the loan as IQR for both the loan statuses are similar\"\"\"\n"
   ]
  },
  {
   "cell_type": "code",
   "execution_count": null,
   "metadata": {},
   "outputs": [],
   "source": [
    "# Segmented Univariate analysis using Public Records\n",
    "fig, ax = plt.subplots()\n",
    "ax.boxplot([df_co.pub_rec,df_fp.pub_rec])\n",
    "plt.ylabel('# Public Records')\n",
    "plt.xlabel('Loan Status')\n",
    "plt.title('Public Records across loan statuses')\n",
    "plt.xticks([1,2],['Charged Off','Fully Paid'])\n",
    "plt.show()\n",
    "\n",
    "\"\"\"Public Records doesn't influence the likelihood of loan defaults as 85% of values are 0 for both loan statuses\"\"\""
   ]
  },
  {
   "cell_type": "code",
   "execution_count": null,
   "metadata": {},
   "outputs": [],
   "source": [
    "# Segmented Univariate analysis using Credit Revolving Balance\n",
    "# Remove the outliers to make IQR visible and comparable\n",
    "df_co_90 = df_co[df_co.revol_bal <= df_co.revol_bal.quantile(0.90)]\n",
    "df_fp_90 = df_fp[df_fp.revol_bal <= df_fp.revol_bal.quantile(0.90)]\n",
    "fig, ax = plt.subplots()\n",
    "ax.boxplot([df_co_90.revol_bal,df_fp_90.revol_bal])\n",
    "plt.ylabel('Credit Revolving Balance')\n",
    "plt.xlabel('Loan Status')\n",
    "plt.title('Credit Revolving Balance across loan statuses')\n",
    "plt.xticks([1,2],['Charged Off','Fully Paid'])\n",
    "plt.show()\n",
    "\n",
    "\"\"\"Loan Applications with higher credit revolving balance are more likely to default than the others. The difference is not striking though\"\"\""
   ]
  },
  {
   "cell_type": "code",
   "execution_count": null,
   "metadata": {},
   "outputs": [],
   "source": [
    "# Segmented Univariate analysis using Revolving Credit Utilization\n",
    "fig, ax = plt.subplots()\n",
    "ax.boxplot([df_co.revol_util,df_fp.revol_util])\n",
    "plt.ylabel('Revolving Credit Utilization')\n",
    "plt.xlabel('Loan Status')\n",
    "plt.title('Revolving Credit Utilization across loan statuses')\n",
    "plt.xticks([1,2],['Charged Off','Fully Paid'])\n",
    "plt.show()\n",
    "\n",
    "\"\"\"Loan Applications with higher revolving credit utilization tend to default the loan than others\"\"\""
   ]
  },
  {
   "cell_type": "code",
   "execution_count": null,
   "metadata": {},
   "outputs": [],
   "source": [
    "# Segmented Univariate analysis using Total Number of Credit Lines\n",
    "fig, ax = plt.subplots()\n",
    "ax.boxplot([df_co.total_acc,df_fp.total_acc])\n",
    "plt.ylabel('Total Number of Credit Lines')\n",
    "plt.xlabel('Loan Status')\n",
    "plt.title('Total Number of Credit Lines across loan statuses')\n",
    "plt.xticks([1,2],['Charged Off','Fully Paid'])\n",
    "plt.show()\n",
    "\n",
    "\"\"\"Total Number of Credit Lines doesn't seem to influence the likelihood to defaulting the loan\"\"\""
   ]
  },
  {
   "cell_type": "code",
   "execution_count": null,
   "metadata": {},
   "outputs": [],
   "source": [
    "# Segmented Univariate analysis using Total Payment\n",
    "fig, ax = plt.subplots()\n",
    "ax.boxplot([df_co.total_acc,df_fp.total_acc])\n",
    "plt.ylabel('Total Payment')\n",
    "plt.xlabel('Loan Status')\n",
    "plt.title('Total Payment across loan statuses')\n",
    "plt.xticks([1,2],['Charged Off','Fully Paid'])\n",
    "plt.show()\n",
    "\n",
    "\"\"\"Total Payment, Total Payment from investors, total principal received, total interest received, total late fee received, number of recoveries, collection recovery fee are all biased for charged off statues. So deriving insights from them will not make sense\"\"\"\n"
   ]
  },
  {
   "cell_type": "code",
   "execution_count": null,
   "metadata": {},
   "outputs": [],
   "source": [
    "# Segmented Univariate analysis using Last Total Payment\n",
    "# Remove the outliers to make IQR visible and comparable\n",
    "df_co_90 = df_co[df_co.last_pymnt_amnt <= df_co.last_pymnt_amnt.quantile(0.90)]\n",
    "df_fp_90 = df_fp[df_fp.last_pymnt_amnt <= df_fp.last_pymnt_amnt.quantile(0.90)]\n",
    "fig, ax = plt.subplots()\n",
    "ax.boxplot([df_co_90.last_pymnt_amnt,df_fp_90.last_pymnt_amnt])\n",
    "plt.ylabel('Last Total Payment')\n",
    "plt.xlabel('Loan Status')\n",
    "plt.title('Last Total Payment across loan statuses')\n",
    "plt.xticks([1,2],['Charged Off','Fully Paid'])\n",
    "plt.show()\n",
    "\n",
    "\"\"\"Loan Applications who paid lesser last total payment is more likely to default the loan\"\"\"\n",
    "# TODO: Not sure if this is again biased for default loan status. cross check again"
   ]
  },
  {
   "cell_type": "code",
   "execution_count": null,
   "metadata": {},
   "outputs": [],
   "source": [
    "# Segmented Univariate analysis using Number of Public Record bankruptcies\n",
    "fig, ax = plt.subplots()\n",
    "ax.boxplot([df_co.pub_rec_bankruptcies,df_fp.pub_rec_bankruptcies])\n",
    "plt.ylabel('# Public Record bankruptcies')\n",
    "plt.xlabel('Loan Status')\n",
    "plt.title('Public Record bankruptcies across loan statuses')\n",
    "plt.xticks([1,2],['Charged Off','Fully Paid'])\n",
    "plt.show()\n",
    "\n",
    "\"\"\"Number of Public Record banruptcies doesn't seem to influence the likelihood of defaulting the loan since 85% of the values are 0 for both\"\"\""
   ]
  },
  {
   "cell_type": "code",
   "execution_count": null,
   "metadata": {},
   "outputs": [],
   "source": []
  },
  {
   "cell_type": "markdown",
   "metadata": {},
   "source": [
    "# Bivariate Analysis"
   ]
  },
  {
   "cell_type": "code",
   "execution_count": null,
   "metadata": {},
   "outputs": [],
   "source": [
    "# Bivariate Analysis: Loan Amount vs Funded Amount\n",
    "plt.figure(figsize=(12,5))\n",
    "ax = sns.scatterplot(x='loan_amnt',y='funded_amnt',data=df,hue='loan_status')\n",
    "ax.set(xlabel='Loan Amount',ylabel='Funded Amount',title='Defaulting Rate by Loan Amount Vs Funded Amount')\n",
    "plt.show()\n",
    "\n",
    "\"\"\"There are very less defaulters when Funded Amount is same as the Loan Amount(linear relation)\"\"\"\n"
   ]
  },
  {
   "cell_type": "code",
   "execution_count": null,
   "metadata": {},
   "outputs": [],
   "source": [
    "# Bivariate Analysis: Term vs Interest Rate\n",
    "ax = sns.catplot(x='term',y='int_rate',data=df,hue='loan_status',kind='violin')\n",
    "ax.set(xlabel='Term',ylabel='Interest Rate in %',title='Loan Status distribution w.r.t Interest Rate and Term')\n",
    "ax.fig.set_size_inches(10,10)\n",
    "plt.show()\n",
    "\"\"\"Loan Applicants tend to likely default when there is higher interest rate. This is true across different terms\"\"\"\n"
   ]
  },
  {
   "cell_type": "code",
   "execution_count": null,
   "metadata": {},
   "outputs": [],
   "source": [
    "# Bivariate Analysis: Term vs Employment Length\n",
    "df_grouped = df.groupby(['term','emp_length','loan_status'])['loan_status'].count().unstack()\n",
    "df_grouped = df_grouped.apply(lambda x : round(x*100/x.sum()),axis=1)\n",
    "df_grouped.drop(columns='Fully Paid',inplace=True)\n",
    "df_unstacked = df_grouped.unstack()\n",
    "df_unstacked.columns = df_unstacked.columns.droplevel()\n",
    "plt.figure(figsize=(10,5))\n",
    "ax = sns.heatmap(df_unstacked, annot=True,cmap=sns.cm.rocket_r,cbar_kws={'label': 'defaulters %'})\n",
    "ax.set(xlabel='Employment Length',ylabel='Term',title='Defaulters % w.r.t Employment Length and Term')\n",
    "plt.show()\n",
    "\n",
    "\"\"\"Loan Applicants with employment length of 7 years and NA values tend to default more when the term of the loan is 60 months\"\"\"\n"
   ]
  },
  {
   "cell_type": "code",
   "execution_count": null,
   "metadata": {},
   "outputs": [],
   "source": [
    "# Bivariate Analysis: Term vs Home Ownership\n",
    "df_grouped = df.groupby(['term','home_ownership','loan_status'])['loan_status'].count().unstack()\n",
    "df_grouped = df_grouped.apply(lambda x : round(x*100/x.sum()),axis=1)\n",
    "df_grouped.drop(columns='Fully Paid',inplace=True)\n",
    "df_unstacked = df_grouped.unstack()\n",
    "df_unstacked.columns = df_unstacked.columns.droplevel()\n",
    "plt.figure(figsize=(10,5))\n",
    "ax = sns.heatmap(df_unstacked, annot=True,cmap=sns.cm.rocket_r,cbar_kws={'label': 'defaulters %'})\n",
    "ax.set(xlabel='Home Ownership',ylabel='Term',title='Defaulters % w.r.t Home Ownership and Term')\n",
    "plt.show()\n",
    "\n",
    "\"\"\"Loan Applicants with term as 60 months and Home Ownership as OWN and RENT default more likely \"\"\"\n"
   ]
  },
  {
   "cell_type": "code",
   "execution_count": null,
   "metadata": {},
   "outputs": [],
   "source": [
    "# Bivariate Analysis: Term vs Annual Income\n",
    "df_filtered = df[df.annual_inc <= df.annual_inc.quantile(0.90)] # Removing Outliers for  better comparison\n",
    "ax = sns.catplot(x='term',y='annual_inc',data=df_filtered,hue='loan_status',kind='box')\n",
    "ax.set(xlabel='Term',ylabel='Annual Income',title='Loan Status distribution w.r.t Annual Income and Term')\n",
    "ax.fig.set_size_inches(10,10)\n",
    "plt.show()\n",
    "\n",
    "\"\"\"Loan Applicants tend to likely default when their annual income is lesser. This is true across different terms\"\"\"\n"
   ]
  },
  {
   "cell_type": "code",
   "execution_count": null,
   "metadata": {},
   "outputs": [],
   "source": [
    "# Bivariate Analysis: Term vs Verification Status\n",
    "df_grouped = df.groupby(['term','verification_status','loan_status'])['loan_status'].count().unstack()\n",
    "df_grouped = df_grouped.apply(lambda x : round(x*100/x.sum()),axis=1)\n",
    "df_grouped.drop(columns='Fully Paid',inplace=True)\n",
    "df_unstacked = df_grouped.unstack()\n",
    "df_unstacked.columns = df_unstacked.columns.droplevel()\n",
    "plt.figure(figsize=(10,5))\n",
    "ax = sns.heatmap(df_unstacked, annot=True,cmap=sns.cm.rocket_r,cbar_kws={'label': 'defaulters %'})\n",
    "ax.set(xlabel='Income Verification Status',ylabel='Term',title='Defaulters % w.r.t Income Verification Status and Term')\n",
    "plt.show()\n",
    "\n",
    "\"\"\"Loan Applications with term as 60 months and their income verified and source verified tend to default more likely than others\"\"\""
   ]
  },
  {
   "cell_type": "code",
   "execution_count": null,
   "metadata": {},
   "outputs": [],
   "source": [
    "# Bivariate Analysis: Term vs Purpose\n",
    "df_grouped = df.groupby(['term','purpose','loan_status'])['loan_status'].count().unstack()\n",
    "df_grouped = df_grouped.apply(lambda x : round(x*100/x.sum()),axis=1)\n",
    "df_grouped.drop(columns='Fully Paid',inplace=True)\n",
    "df_unstacked = df_grouped.unstack()\n",
    "df_unstacked.columns = df_unstacked.columns.droplevel()\n",
    "plt.figure(figsize=(10,5))\n",
    "ax = sns.heatmap(df_unstacked, annot=True,cmap=sns.cm.rocket_r,cbar_kws={'label': 'defaulters %'})\n",
    "ax.set(xlabel='Purpose',ylabel='Term',title='Defaulters % w.r.t Purpose and Term')\n",
    "plt.show()\n",
    "\n",
    "\"\"\"Loan Applicants with term as 60 months are more likely to default when the purpose is educational and small business\"\"\""
   ]
  },
  {
   "cell_type": "code",
   "execution_count": null,
   "metadata": {},
   "outputs": [],
   "source": [
    "# Bivariate Analysis: Term vs dti\n",
    "ax = sns.catplot(x='term',y='dti',data=df,hue='loan_status',kind='box')\n",
    "ax.set(xlabel='Term',ylabel='Debt to Income Ratio',title='Loan Status distribution w.r.t Debt to Income Ratio and Term')\n",
    "ax.fig.set_size_inches(10,10)\n",
    "plt.show()\n",
    "\n",
    "\"\"\"Loan Applicants with higher debt to income ratio tend to default more. This is true across terms\"\"\""
   ]
  },
  {
   "cell_type": "code",
   "execution_count": null,
   "metadata": {},
   "outputs": [],
   "source": [
    "# Bivariate Analysis: Term vs revol_bal\n",
    "df_filtered = df[df.revol_bal <= df.revol_bal.quantile(0.90)] # Remove Outliers to compare the data\n",
    "ax = sns.catplot(x='term',y='revol_bal',data=df_filtered,hue='loan_status',kind='box')\n",
    "ax.set(xlabel='Term',ylabel='Total Credit Revolving Balance',title='Loan Status distribution w.r.t Total Credit Revolving Balance and Term')\n",
    "ax.fig.set_size_inches(10,10)\n",
    "plt.show()\n",
    "\n",
    "\"\"\"Loan Applicants with higher Total Credit Revolving Balance tend to default likely when the term is 60 months\"\"\""
   ]
  },
  {
   "cell_type": "code",
   "execution_count": null,
   "metadata": {},
   "outputs": [],
   "source": [
    "# Bivariate Analysis: Term vs Revolving Credit Utilization\n",
    "\n",
    "ax = sns.catplot(x='term',y='revol_util',data=df,hue='loan_status',kind='box')\n",
    "ax.set(xlabel='Term',ylabel='Revolving Credit Utilization',title='Loan Status distribution w.r.t Revolving Credit Utilization and Term')\n",
    "ax.fig.set_size_inches(10,10)\n",
    "plt.show()\n",
    "\n",
    "\"\"\"Loan Applicants with higher revolving credit utilization tend to default more. This is true across terms\"\"\""
   ]
  },
  {
   "cell_type": "code",
   "execution_count": null,
   "metadata": {},
   "outputs": [],
   "source": [
    "# Bivariate Analysis: Annual Income vs Interest Rate\n",
    "plt.figure(figsize=(12,5))\n",
    "df_filtered = df[df.annual_inc <= df.annual_inc.quantile(0.90)]\n",
    "ax = sns.scatterplot(x='annual_inc',y='int_rate',data=df_filtered,hue='loan_status')\n",
    "ax.set(xlabel='Annual Income',ylabel='Interest Rate in %',title='Defaulting Rate by Annual Income Vs Interest Rate')\n",
    "plt.show()\n",
    "\n",
    "\"\"\"Loan Applicants with lesser interest rate tend to fully pay the loan across all levels of annual income \"\"\"\n"
   ]
  },
  {
   "cell_type": "code",
   "execution_count": null,
   "metadata": {},
   "outputs": [],
   "source": [
    "# Bivariate Analysis: House Ownership vs Annual Income\n",
    "df_filtered = df[df.annual_inc <= df.annual_inc.quantile(0.90)]\n",
    "ax = sns.catplot(x='home_ownership',y='annual_inc',data=df_filtered,hue='loan_status',kind='box')\n",
    "ax.set(xlabel='Home Ownership',ylabel='Annual Income',title='Loan Status distribution w.r.t Annual Income and Home Ownership')\n",
    "ax.fig.set_size_inches(10,10)\n",
    "plt.show()\n",
    "\n",
    "\"\"\"Loan Applicants with lesser Annual Income tend to default more likely. This is true across Home Ownerships\"\"\""
   ]
  },
  {
   "cell_type": "code",
   "execution_count": null,
   "metadata": {},
   "outputs": [],
   "source": [
    "# Bivariate Analysis: Emp Length vs Home Ownership\n",
    "df_grouped = df.groupby(['emp_length','home_ownership','loan_status'])['loan_status'].count().unstack()\n",
    "df_grouped = df_grouped.apply(lambda x : round(x*100/x.sum()),axis=1)\n",
    "df_grouped.drop(columns='Fully Paid',inplace=True)\n",
    "df_unstacked = df_grouped.unstack()\n",
    "df_unstacked.columns = df_unstacked.columns.droplevel()\n",
    "plt.figure(figsize=(10,5))\n",
    "ax = sns.heatmap(df_unstacked, annot=True,cmap=sns.cm.rocket_r,cbar_kws={'label': 'defaulters %'})\n",
    "ax.set(xlabel='Home Ownership',ylabel='Employment Length',title='Defaulters % w.r.t Home Ownership and Employment Length')\n",
    "plt.show()\n",
    "\n",
    "\n",
    "\"\"\"Loan Applicants with OTHER home ownership tend to default more when their employment length is 7 years or 3 years\"\"\""
   ]
  },
  {
   "cell_type": "code",
   "execution_count": null,
   "metadata": {},
   "outputs": [],
   "source": [
    "# Bivariate Analysis: Emp Length vs Purpose\n",
    "df_grouped = df.groupby(['emp_length','purpose','loan_status'])['loan_status'].count().unstack()\n",
    "df_grouped = df_grouped.apply(lambda x : round(x*100/x.sum()),axis=1)\n",
    "df_grouped.drop(columns='Fully Paid',inplace=True)\n",
    "df_unstacked = df_grouped.unstack()\n",
    "df_unstacked.columns = df_unstacked.columns.droplevel()\n",
    "plt.figure(figsize=(10,5))\n",
    "ax = sns.heatmap(df_unstacked, annot=True,cmap=sns.cm.rocket_r,cbar_kws={'label': 'defaulters %'})\n",
    "ax.set(xlabel='Purpose',ylabel='Employment Length',title='Defaulters % w.r.t Purpose and Employment Length')\n",
    "plt.show()\n",
    "\n",
    "\"\"\"Loan Applicants for purpose as renewable energy tend to likely default when their employment length is 4 years or 8 years. Also, Loan Applicants with no employment length specified tend to default more for educational purpose\"\"\"\n"
   ]
  },
  {
   "cell_type": "code",
   "execution_count": null,
   "metadata": {},
   "outputs": [],
   "source": [
    "# Bivariate Analysis: Home ownership vs Purpose\n",
    "df_grouped = df.groupby(['home_ownership','purpose','loan_status'])['loan_status'].count().unstack()\n",
    "df_grouped = df_grouped.apply(lambda x : round(x*100/x.sum()),axis=1)\n",
    "df_grouped.drop(columns='Fully Paid',inplace=True)\n",
    "df_unstacked = df_grouped.unstack()\n",
    "df_unstacked.columns = df_unstacked.columns.droplevel()\n",
    "plt.figure(figsize=(10,5))\n",
    "ax = sns.heatmap(df_unstacked, annot=True,cmap=sns.cm.rocket_r,cbar_kws={'label': 'defaulters %'})\n",
    "ax.set(xlabel='Purpose',ylabel='Home Ownership',title='Defaulters % w.r.t Purpose and Home Ownership')\n",
    "plt.show()\n",
    "\n",
    "\"\"\"Loan Applicants for the purpose of small business tend to default more across RENT, OWN and OTHER home ownerships. Also, Car - OTHER combination seem to default likely\"\"\""
   ]
  },
  {
   "cell_type": "code",
   "execution_count": null,
   "metadata": {},
   "outputs": [],
   "source": []
  }
 ],
 "metadata": {
  "interpreter": {
   "hash": "aee8b7b246df8f9039afb4144a1f6fd8d2ca17a180786b69acc140d282b71a49"
  },
  "kernelspec": {
   "display_name": "Python 3 (ipykernel)",
   "language": "python",
   "name": "python3"
  },
  "language_info": {
   "codemirror_mode": {
    "name": "ipython",
    "version": 3
   },
   "file_extension": ".py",
   "mimetype": "text/x-python",
   "name": "python",
   "nbconvert_exporter": "python",
   "pygments_lexer": "ipython3",
   "version": "3.9.0"
  }
 },
 "nbformat": 4,
 "nbformat_minor": 2
}
