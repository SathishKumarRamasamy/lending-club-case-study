{
 "cells": [
  {
   "cell_type": "code",
   "execution_count": 1,
   "metadata": {},
   "outputs": [],
   "source": [
    "# Import needed Libraries\n",
    "import pandas as pd\n",
    "import matplotlib.pyplot as plt\n",
    "import warnings\n",
    "warnings.filterwarnings('ignore')"
   ]
  },
  {
   "cell_type": "code",
   "execution_count": 2,
   "metadata": {},
   "outputs": [],
   "source": [
    "# Load the dataset\n",
    "path = 'loan.csv' # Change the path here if different\n",
    "df = pd.read_csv(path)\n"
   ]
  },
  {
   "cell_type": "markdown",
   "metadata": {},
   "source": [
    "# Understanding the data: number of entries, columns, datatypes\n",
    "df.head()"
   ]
  },
  {
   "cell_type": "code",
   "execution_count": null,
   "metadata": {},
   "outputs": [],
   "source": [
    "df.info()"
   ]
  },
  {
   "cell_type": "code",
   "execution_count": null,
   "metadata": {},
   "outputs": [],
   "source": [
    "df.describe()"
   ]
  },
  {
   "cell_type": "code",
   "execution_count": null,
   "metadata": {},
   "outputs": [],
   "source": [
    "df.columns.size"
   ]
  },
  {
   "cell_type": "markdown",
   "metadata": {},
   "source": [
    "# Data Cleaning"
   ]
  },
  {
   "cell_type": "markdown",
   "metadata": {},
   "source": [
    "## Filtering Data"
   ]
  },
  {
   "cell_type": "code",
   "execution_count": 3,
   "metadata": {},
   "outputs": [],
   "source": [
    "# Keeping only data relevant for the problem statement: loan status != Current\n",
    "df = df[df.loan_status != 'Current']\n",
    "df.reset_index(drop=True,inplace=True)"
   ]
  },
  {
   "cell_type": "markdown",
   "metadata": {},
   "source": [
    "## Removing unnecessary columns"
   ]
  },
  {
   "cell_type": "code",
   "execution_count": 4,
   "metadata": {},
   "outputs": [
    {
     "data": {
      "text/plain": [
       "40"
      ]
     },
     "execution_count": 4,
     "metadata": {},
     "output_type": "execute_result"
    }
   ],
   "source": [
    "# Listing columns with No values or all values are missing\n",
    "df.dropna(axis=1,how='all',inplace=True)\n",
    "\n",
    "#Dropping insignificant Columns\n",
    "df.drop(columns=['desc','url','title'],inplace=True)\n",
    "\n",
    "#Dropping columns with >50% NA values\n",
    "df.drop(columns=['mths_since_last_delinq','mths_since_last_record'],inplace=True)\n",
    "\n",
    "# Dropping Columns with only one unique value\n",
    "nunique = df.nunique()\n",
    "cols_to_drop = nunique[nunique == 1].index\n",
    "df.drop(cols_to_drop, axis=1,inplace=True)\n",
    "df.columns.size"
   ]
  },
  {
   "cell_type": "markdown",
   "metadata": {},
   "source": [
    "## Fixing data types"
   ]
  },
  {
   "cell_type": "code",
   "execution_count": 5,
   "metadata": {},
   "outputs": [],
   "source": [
    "# Removing % \n",
    "df.int_rate = df.int_rate.apply(lambda x : float(x.replace('%','')))\n",
    "df.revol_util = df.revol_util.apply(lambda x : float(str(x).replace('%','')))"
   ]
  },
  {
   "cell_type": "code",
   "execution_count": 6,
   "metadata": {},
   "outputs": [],
   "source": [
    "def correct_years_beyong_1969(dt):\n",
    "    current_year = pd.to_datetime('now').year\n",
    "    if dt.year > current_year:\n",
    "        dt = dt.replace(year=dt.year-100)\n",
    "    return dt"
   ]
  },
  {
   "cell_type": "code",
   "execution_count": 7,
   "metadata": {},
   "outputs": [],
   "source": [
    "# Converting dates in string format to datetime format of pandas\n",
    "current_year = pd.to_datetime('now').year\n",
    "df.issue_d = pd.to_datetime(df.issue_d, format='%b-%y').apply(lambda x : correct_years_beyong_1969(x))\n",
    "df.earliest_cr_line = pd.to_datetime(df.earliest_cr_line,format='%b-%y').apply(lambda x : correct_years_beyong_1969(x))\n",
    "df.last_pymnt_d = pd.to_datetime(df.last_pymnt_d,format='%b-%y').apply(lambda x : correct_years_beyong_1969(x))\n",
    "df.last_credit_pull_d = pd.to_datetime(df.last_credit_pull_d,format='%b-%y').apply(lambda x : correct_years_beyong_1969(x))"
   ]
  },
  {
   "cell_type": "markdown",
   "metadata": {},
   "source": [
    "## Fix Missing Values"
   ]
  },
  {
   "cell_type": "code",
   "execution_count": null,
   "metadata": {},
   "outputs": [],
   "source": [
    "missing_values = df.isna().any()\n",
    "missing_values[missing_values == True]"
   ]
  },
  {
   "cell_type": "markdown",
   "metadata": {},
   "source": [
    "# Intermediate data separation"
   ]
  },
  {
   "cell_type": "code",
   "execution_count": 9,
   "metadata": {},
   "outputs": [],
   "source": [
    "df.to_csv('filtered_data.csv')"
   ]
  },
  {
   "cell_type": "code",
   "execution_count": 8,
   "metadata": {},
   "outputs": [
    {
     "name": "stdout",
     "output_type": "stream",
     "text": [
      "['id', 'member_id', 'loan_amnt', 'funded_amnt', 'funded_amnt_inv', 'term', 'int_rate', 'installment', 'grade', 'sub_grade', 'emp_title', 'emp_length', 'home_ownership', 'annual_inc', 'verification_status', 'issue_d', 'loan_status', 'purpose', 'zip_code', 'addr_state', 'dti', 'delinq_2yrs', 'earliest_cr_line', 'inq_last_6mths', 'open_acc', 'pub_rec', 'revol_bal', 'revol_util', 'total_acc', 'total_pymnt', 'total_pymnt_inv', 'total_rec_prncp', 'total_rec_int', 'total_rec_late_fee', 'recoveries', 'collection_recovery_fee', 'last_pymnt_d', 'last_pymnt_amnt', 'last_credit_pull_d', 'pub_rec_bankruptcies']\n"
     ]
    }
   ],
   "source": [
    "print(list(df.columns))"
   ]
  },
  {
   "cell_type": "code",
   "execution_count": 10,
   "metadata": {},
   "outputs": [],
   "source": [
    "df_co =  df[df.loan_status == 'Charged Off']\n",
    "df_fp = df[df.loan_status == 'Fully Paid']"
   ]
  },
  {
   "cell_type": "markdown",
   "metadata": {},
   "source": [
    "# Univariate Analysis"
   ]
  },
  {
   "cell_type": "code",
   "execution_count": null,
   "metadata": {},
   "outputs": [],
   "source": [
    "# id, member_id are unique. It doesn't make sense to do univariate analysis on those columns\n",
    "# Univariate analysis on loan_amnt\n",
    "plt.boxplot(df.loan_amnt)\n",
    "plt.ylabel('Loan Amount')\n",
    "plt.xticks([1],['Loan Applicants'])\n",
    "plt.title('Loan Amount Distribution')\n",
    "plt.show()"
   ]
  },
  {
   "cell_type": "code",
   "execution_count": null,
   "metadata": {},
   "outputs": [],
   "source": [
    "# Univariate analysis on funded_amnt\n",
    "plt.boxplot(df.funded_amnt)\n",
    "plt.ylabel('Funded Amount')\n",
    "plt.xticks([1],['Loan Applicants'])\n",
    "plt.title('Funded Amount Distribution')\n",
    "plt.show()"
   ]
  },
  {
   "cell_type": "code",
   "execution_count": null,
   "metadata": {},
   "outputs": [],
   "source": [
    "# Univariate analysis on funded_amnt_inv\n",
    "plt.boxplot(df.funded_amnt_inv)\n",
    "plt.ylabel('Funded Amount Investors')\n",
    "plt.xticks([1],['Loan Applicants'])\n",
    "plt.title('Funded Amount by Investors Distribution')\n",
    "plt.show()"
   ]
  },
  {
   "cell_type": "code",
   "execution_count": null,
   "metadata": {},
   "outputs": [],
   "source": [
    "# Univariate analysis on term\n",
    "df.term.value_counts().sort_index().plot.bar()\n",
    "plt.ylabel('Frequency')\n",
    "plt.xticks(rotation=0)\n",
    "plt.title('Frequency Distribution of Loan Term')\n",
    "plt.show()"
   ]
  },
  {
   "cell_type": "code",
   "execution_count": null,
   "metadata": {},
   "outputs": [],
   "source": [
    "# Univariate analysis on int_rate\n",
    "plt.boxplot(df.int_rate)\n",
    "plt.ylabel('Interest Rate in %')\n",
    "plt.xticks([1],['Loan Applicants'])\n",
    "plt.title('Interest Rate Distribution')\n",
    "plt.show()"
   ]
  },
  {
   "cell_type": "code",
   "execution_count": null,
   "metadata": {},
   "outputs": [],
   "source": [
    "# Univariate analysis on installment\n",
    "plt.boxplot(df.installment)\n",
    "plt.ylabel('Installment amount')\n",
    "plt.xticks([1],['Loan Applicants'])\n",
    "plt.title('Installment Amount Distribution')\n",
    "plt.show()"
   ]
  },
  {
   "cell_type": "code",
   "execution_count": null,
   "metadata": {},
   "outputs": [],
   "source": [
    "# Univariate analysis on Loan Grade\n",
    "df.grade.value_counts().plot.bar()\n",
    "plt.ylabel('Frequency')\n",
    "plt.xlabel('Loan Grade')\n",
    "plt.xticks(rotation=0)\n",
    "plt.title('Frequency Distribution of Loan Grade')\n",
    "plt.show()"
   ]
  },
  {
   "cell_type": "code",
   "execution_count": null,
   "metadata": {},
   "outputs": [],
   "source": [
    "# Univariate analysis on Loan Sub Grade\n",
    "df.sub_grade.value_counts().plot.bar()\n",
    "plt.ylabel('Frequency')\n",
    "plt.xlabel('Loan Sub Grade')\n",
    "plt.title('Frequency Distribution of Loan Sub Grade')\n",
    "plt.show()\n",
    "\n",
    "## TODO Adjust the Fig Size Later"
   ]
  },
  {
   "cell_type": "code",
   "execution_count": null,
   "metadata": {},
   "outputs": [],
   "source": [
    "# df.emp_title.value_counts().plot.bar()\n",
    "# plt.ylabel('Frequency')\n",
    "# plt.xticks(rotation=0)\n",
    "# plt.title('Frequency Distribution of Borrower\\'s emp title')\n",
    "# plt.show()\n",
    "# TODO"
   ]
  },
  {
   "cell_type": "code",
   "execution_count": null,
   "metadata": {},
   "outputs": [],
   "source": [
    "# Univariate analysis on Employment Length\n",
    "df.emp_length.value_counts().plot.bar()\n",
    "plt.ylabel('Frequency')\n",
    "plt.xlabel('Employment Length in years')\n",
    "plt.title('Frequency Distribution of Borrower\\'s Employment Length')\n",
    "plt.show()\n",
    "\n",
    "# TODO Missing value imputation for emp_length"
   ]
  },
  {
   "cell_type": "code",
   "execution_count": null,
   "metadata": {},
   "outputs": [],
   "source": [
    "# Univariate analysis on Home Ownership\n",
    "df.home_ownership.value_counts().plot.bar()\n",
    "plt.ylabel('Frequency')\n",
    "plt.xlabel('Home Ownership Status')\n",
    "plt.xticks(rotation=0)\n",
    "plt.title('Frequency Distribution of Home Ownership Status')\n",
    "plt.show()"
   ]
  },
  {
   "cell_type": "code",
   "execution_count": null,
   "metadata": {},
   "outputs": [],
   "source": [
    "# Univariate analysis on annual_inc\n",
    "plt.boxplot(df.annual_inc)\n",
    "plt.ylabel('Annual Income')\n",
    "plt.xticks([1],['Loan Applicants'])\n",
    "plt.title('Annual Income Distribution')\n",
    "plt.show()"
   ]
  },
  {
   "cell_type": "code",
   "execution_count": null,
   "metadata": {},
   "outputs": [],
   "source": [
    "# Univariate analysis on Verification Status\n",
    "df.verification_status.value_counts().plot.bar()\n",
    "plt.ylabel('Frequency')\n",
    "plt.xlabel('Verification Status')\n",
    "plt.xticks(rotation=0)\n",
    "plt.title('Frequency Distribution of Verification Status')\n",
    "plt.show()\n"
   ]
  },
  {
   "cell_type": "code",
   "execution_count": null,
   "metadata": {},
   "outputs": [],
   "source": [
    "# Univariate analysis on Issue date\n",
    "df.issue_d.dt.year.value_counts().sort_index().plot.bar()\n",
    "plt.ylabel('Loans Issued')\n",
    "plt.xlabel('Issuing Year')\n",
    "plt.xticks(rotation=0)\n",
    "plt.title('Distribution of Loans Issued across years')\n",
    "plt.show()"
   ]
  },
  {
   "cell_type": "code",
   "execution_count": null,
   "metadata": {},
   "outputs": [],
   "source": [
    "# Univariate analysis on Purpose\n",
    "df.purpose.value_counts().plot.bar()\n",
    "plt.ylabel('Frequency')\n",
    "plt.xlabel('Purpose')\n",
    "plt.xticks(rotation=90)\n",
    "plt.title('Frequency Distribution of Purpose')\n",
    "plt.show()"
   ]
  },
  {
   "cell_type": "code",
   "execution_count": null,
   "metadata": {},
   "outputs": [],
   "source": [
    "# Univariate analysis on State\n",
    "df.addr_state.value_counts().plot.bar()\n",
    "plt.ylabel('Frequency')\n",
    "plt.xlabel('State')\n",
    "plt.xticks(rotation=90)\n",
    "plt.title('Frequency Distribution of State')\n",
    "plt.show()\n",
    "\n",
    "#TODO figure size issue fix"
   ]
  },
  {
   "cell_type": "code",
   "execution_count": null,
   "metadata": {},
   "outputs": [],
   "source": [
    "# Univariate analysis on dti\n",
    "plt.boxplot(df.dti)\n",
    "plt.ylabel('Debt to Income Ratio')\n",
    "plt.xticks([1],['Loan Applicants'])\n",
    "plt.title('Debt to Income Ratio Distribution')\n",
    "plt.show()"
   ]
  },
  {
   "cell_type": "code",
   "execution_count": null,
   "metadata": {},
   "outputs": [],
   "source": [
    "# Univariate analysis on delinq_2yrs\n",
    "df.delinq_2yrs.value_counts().plot.bar()\n",
    "plt.ylabel('Frequency')\n",
    "plt.xlabel('Deliquent Incidences in 2 years')\n",
    "plt.xticks(rotation=90)\n",
    "plt.title('Frequency Distribution across Deliquent Incidences in 2 years ')\n",
    "plt.show()"
   ]
  },
  {
   "cell_type": "code",
   "execution_count": null,
   "metadata": {},
   "outputs": [],
   "source": [
    "# Univariate analysis on Earliest Credit Line\n",
    "df.earliest_cr_line.dt.year.plot.hist(edgecolor='white',color='brown',bins=10)\n",
    "plt.ylabel('Frequency')\n",
    "plt.xlabel('Year of Earliest LOC')\n",
    "plt.xticks(rotation=0)\n",
    "plt.title('Frequency Distribution w.r.t Earliest LOC')\n",
    "plt.show()\n"
   ]
  },
  {
   "cell_type": "code",
   "execution_count": null,
   "metadata": {},
   "outputs": [],
   "source": [
    "# Univariate analysis on Number of Inquiries in the last 6 months\n",
    "df.inq_last_6mths.value_counts().plot.bar()\n",
    "plt.ylabel('Frequency')\n",
    "plt.xlabel('Number of Inquiries in the last 6 months')\n",
    "plt.xticks(rotation=0)\n",
    "plt.title('Frequency Distribution across Number of Inquiries in the last 6 months')\n",
    "plt.show()"
   ]
  },
  {
   "cell_type": "code",
   "execution_count": null,
   "metadata": {},
   "outputs": [],
   "source": [
    "# Univariate analysis on Open Credit Lines\n",
    "plt.boxplot(df.open_acc)\n",
    "plt.ylabel('Open Credit Lines')\n",
    "plt.xticks([1],['Loan Applicants'])\n",
    "plt.title('Open Credit Lines Distribution')\n",
    "plt.show()"
   ]
  },
  {
   "cell_type": "code",
   "execution_count": null,
   "metadata": {},
   "outputs": [],
   "source": [
    "# Univariate analysis on Public Records\n",
    "df.pub_rec.value_counts().plot.bar()\n",
    "plt.ylabel('Frequency')\n",
    "plt.xlabel('Public Records')\n",
    "plt.xticks(rotation=0)\n",
    "plt.title('Frequency Distribution across Public Records')\n",
    "plt.show()"
   ]
  },
  {
   "cell_type": "code",
   "execution_count": null,
   "metadata": {},
   "outputs": [],
   "source": [
    "# Univariate analysis on Revolving Balance\n",
    "plt.boxplot(df.revol_bal)\n",
    "plt.ylabel('Revolving Balance')\n",
    "plt.xticks([1],['Loan Applicants'])\n",
    "plt.title('Revolving Balance Distribution')\n",
    "plt.show()"
   ]
  },
  {
   "cell_type": "code",
   "execution_count": null,
   "metadata": {},
   "outputs": [],
   "source": [
    "# Univariate analysis on Revolving Line Util. Rate\n",
    "df.revol_util.plot.hist(edgecolor='white',color='brown',bins=50)\n",
    "plt.ylabel('Frequency')\n",
    "plt.xlabel('Revolving Line Util Rate')\n",
    "plt.xticks(rotation=0)\n",
    "plt.title('Frequency Distribution w.r.t Revolving Line Util Rate')\n",
    "plt.show()\n"
   ]
  },
  {
   "cell_type": "code",
   "execution_count": null,
   "metadata": {},
   "outputs": [],
   "source": [
    "# Univariate analysis on Total Credit Lines\n",
    "plt.boxplot(df.total_acc)\n",
    "plt.ylabel('Total Credit Lines')\n",
    "plt.xticks([1],['Loan Applicants'])\n",
    "plt.title('Total Credit Lines Distribution')\n",
    "plt.show()"
   ]
  },
  {
   "cell_type": "code",
   "execution_count": 12,
   "metadata": {},
   "outputs": [
    {
     "data": {
      "image/png": "[encoded data removed]",
      "text/plain": [
       "<Figure size 432x288 with 1 Axes>"
      ]
     },
     "metadata": {
      "needs_background": "light"
     },
     "output_type": "display_data"
    }
   ],
   "source": [
    "# Univariate analysis on Payment Received for total amnt\n",
    "plt.boxplot(df.total_pymnt)\n",
    "plt.ylabel('Payment Received for total amount')\n",
    "plt.xticks([1],['Loan Applicants'])\n",
    "plt.title('Total Received Payment Distribution')\n",
    "plt.show()"
   ]
  },
  {
   "cell_type": "code",
   "execution_count": 14,
   "metadata": {},
   "outputs": [
    {
     "data": {
      "image/png": "[encoded data removed]",
      "text/plain": [
       "<Figure size 432x288 with 1 Axes>"
      ]
     },
     "metadata": {
      "needs_background": "light"
     },
     "output_type": "display_data"
    }
   ],
   "source": [
    "# Univariate analysis on Payment Received for total amnt by investors\n",
    "plt.boxplot(df.total_pymnt_inv)\n",
    "plt.ylabel('Payment Received for total amount (Investors)')\n",
    "plt.xticks([1],['Loan Applicants'])\n",
    "plt.title('Total Received Payment (Investors) Distribution')\n",
    "plt.show()"
   ]
  },
  {
   "cell_type": "code",
   "execution_count": 17,
   "metadata": {},
   "outputs": [
    {
     "data": {
      "image/png": "[encoded data removed]",
      "text/plain": [
       "<Figure size 432x288 with 1 Axes>"
      ]
     },
     "metadata": {
      "needs_background": "light"
     },
     "output_type": "display_data"
    }
   ],
   "source": [
    "# Univariate analysis on Total Received Principal\n",
    "plt.boxplot(df.total_rec_prncp)\n",
    "plt.ylabel('Total Received Principal')\n",
    "plt.xticks([1],['Loan Applicants'])\n",
    "plt.title('Total Received Principal Distribution')\n",
    "plt.show()"
   ]
  },
  {
   "cell_type": "code",
   "execution_count": 18,
   "metadata": {},
   "outputs": [
    {
     "data": {
      "image/png": "[encoded data removed]",
      "text/plain": [
       "<Figure size 432x288 with 1 Axes>"
      ]
     },
     "metadata": {
      "needs_background": "light"
     },
     "output_type": "display_data"
    }
   ],
   "source": [
    "# Univariate analysis on Total Received Interest\n",
    "plt.boxplot(df.total_rec_int)\n",
    "plt.ylabel('Total Received Interest')\n",
    "plt.xticks([1],['Loan Applicants'])\n",
    "plt.title('Total Received Interest Distribution')\n",
    "plt.show()"
   ]
  },
  {
   "cell_type": "code",
   "execution_count": 20,
   "metadata": {},
   "outputs": [
    {
     "data": {
      "image/png": "[encoded data removed]",
      "text/plain": [
       "<Figure size 432x288 with 1 Axes>"
      ]
     },
     "metadata": {
      "needs_background": "light"
     },
     "output_type": "display_data"
    }
   ],
   "source": [
    "# Univariate analysis on Total Received Late Fee\n",
    "plt.boxplot(df.total_rec_late_fee)\n",
    "plt.ylabel('Total Received Late Fee')\n",
    "plt.xticks([1],['Loan Applicants'])\n",
    "plt.title('Total Received Late Fee Distribution')\n",
    "plt.show()"
   ]
  },
  {
   "cell_type": "code",
   "execution_count": 21,
   "metadata": {},
   "outputs": [
    {
     "data": {
      "image/png": "[encoded data removed]",
      "text/plain": [
       "<Figure size 432x288 with 1 Axes>"
      ]
     },
     "metadata": {
      "needs_background": "light"
     },
     "output_type": "display_data"
    }
   ],
   "source": [
    "# Univariate analysis on recoveries\n",
    "plt.boxplot(df.recoveries)\n",
    "plt.ylabel('Recoveries')\n",
    "plt.xticks([1],['Loan Applicants'])\n",
    "plt.title('Recoveries Distribution')\n",
    "plt.show()"
   ]
  },
  {
   "cell_type": "code",
   "execution_count": 22,
   "metadata": {},
   "outputs": [
    {
     "data": {
      "image/png": "[encoded data removed]",
      "text/plain": [
       "<Figure size 432x288 with 1 Axes>"
      ]
     },
     "metadata": {
      "needs_background": "light"
     },
     "output_type": "display_data"
    }
   ],
   "source": [
    "# Univariate analysis on Charge Off Collection Fees\n",
    "plt.boxplot(df.collection_recovery_fee)\n",
    "plt.ylabel('Charge Off Collection Fees')\n",
    "plt.xticks([1],['Loan Applicants'])\n",
    "plt.title('Charge Off Collection Fees Distribution')\n",
    "plt.show()"
   ]
  },
  {
   "cell_type": "code",
   "execution_count": 31,
   "metadata": {},
   "outputs": [
    {
     "data": {
      "image/png": "[encoded data removed]",
      "text/plain": [
       "<Figure size 432x288 with 1 Axes>"
      ]
     },
     "metadata": {
      "needs_background": "light"
     },
     "output_type": "display_data"
    }
   ],
   "source": [
    "# Univariate analysis on Last Payment date\n",
    "df.last_pymnt_d.dt.year.value_counts().sort_index().plot.bar()\n",
    "plt.ylabel('Frequency')\n",
    "plt.xlabel('Last Payment Year')\n",
    "plt.xticks(rotation=90)\n",
    "plt.title('Distribution of Loans w.r.t Last payment year')\n",
    "plt.show()"
   ]
  },
  {
   "cell_type": "code",
   "execution_count": 32,
   "metadata": {},
   "outputs": [
    {
     "data": {
      "image/png": "[encoded data removed]",
      "text/plain": [
       "<Figure size 432x288 with 1 Axes>"
      ]
     },
     "metadata": {
      "needs_background": "light"
     },
     "output_type": "display_data"
    }
   ],
   "source": [
    "# Univariate analysis on Last Total Payment\n",
    "plt.boxplot(df.last_pymnt_amnt)\n",
    "plt.ylabel('Last Total Payment')\n",
    "plt.xticks([1],['Loan Applicants'])\n",
    "plt.title('Last Total Payment Distribution')\n",
    "plt.show()"
   ]
  },
  {
   "cell_type": "code",
   "execution_count": 33,
   "metadata": {},
   "outputs": [
    {
     "data": {
      "image/png": "[encoded data removed]",
      "text/plain": [
       "<Figure size 432x288 with 1 Axes>"
      ]
     },
     "metadata": {
      "needs_background": "light"
     },
     "output_type": "display_data"
    }
   ],
   "source": [
    "# Univariate analysis on Last Credit Pull Year\n",
    "df.last_credit_pull_d.dt.year.value_counts().sort_index().plot.bar()\n",
    "plt.ylabel('Frequency')\n",
    "plt.xlabel('Last Credit Pull Year')\n",
    "plt.xticks(rotation=90)\n",
    "plt.title('Distribution of Loans w.r.t Last Credit Pull Year')\n",
    "plt.show()"
   ]
  },
  {
   "cell_type": "code",
   "execution_count": 40,
   "metadata": {},
   "outputs": [
    {
     "data": {
      "image/png": "[encoded data removed]",
      "text/plain": [
       "<Figure size 432x288 with 1 Axes>"
      ]
     },
     "metadata": {
      "needs_background": "light"
     },
     "output_type": "display_data"
    }
   ],
   "source": [
    "# Univariate analysis on Public Record bankruptcies\n",
    "df.pub_rec_bankruptcies.value_counts().sort_index().plot.bar()\n",
    "plt.ylabel('Frequency')\n",
    "plt.xlabel('Public Record bankruptcies')\n",
    "plt.xticks(rotation=0)\n",
    "plt.title('Distribution of Loans w.r.t Public Record bankruptcies')\n",
    "plt.show()"
   ]
  },
  {
   "cell_type": "code",
   "execution_count": null,
   "metadata": {},
   "outputs": [],
   "source": []
  },
  {
   "cell_type": "markdown",
   "metadata": {},
   "source": [
    "# Segmented Univariate Analysis"
   ]
  },
  {
   "cell_type": "code",
   "execution_count": null,
   "metadata": {},
   "outputs": [],
   "source": [
    "print(list(df.columns))"
   ]
  },
  {
   "cell_type": "code",
   "execution_count": null,
   "metadata": {},
   "outputs": [],
   "source": [
    "# id, member_id are unique. It doesn't make sense to do Segmented univariate analysis on those columns\n",
    "# Segmented Univariate analysis on loan_amnt\n",
    "fig, ax = plt.subplots()\n",
    "ax.boxplot([df_co.loan_amnt,df_fp.loan_amnt])\n",
    "plt.xticks([1,2],['Charged Off','Fully Paid'])\n",
    "plt.show()"
   ]
  },
  {
   "cell_type": "code",
   "execution_count": null,
   "metadata": {},
   "outputs": [],
   "source": [
    "# Univariate analysis on funded_amnt\n",
    "fig, ax = plt.subplots()\n",
    "ax.boxplot([df_co.funded_amnt,df_fp.funded_amnt])\n",
    "plt.xticks([1,2],['Charged Off','Fully Paid'])\n",
    "plt.show()"
   ]
  },
  {
   "cell_type": "code",
   "execution_count": null,
   "metadata": {},
   "outputs": [],
   "source": [
    "# Univariate analysis on funded_amnt_inv\n",
    "fig, ax = plt.subplots()\n",
    "ax.boxplot([df_co.funded_amnt_inv,df_fp.funded_amnt_inv])\n",
    "plt.xticks([1,2],['Charged Off','Fully Paid'])\n",
    "plt.show()"
   ]
  },
  {
   "cell_type": "code",
   "execution_count": null,
   "metadata": {},
   "outputs": [],
   "source": [
    "# Univariate analysis on term\n",
    "fig, ax = plt.subplots()\n",
    "plt.bar(df_co.term)\n",
    "# plt.xticks([0,1],['Charged Off','Fully Paid'])\n",
    "plt.show()"
   ]
  },
  {
   "cell_type": "markdown",
   "metadata": {},
   "source": [
    "# Bivariate Analysis"
   ]
  },
  {
   "cell_type": "code",
   "execution_count": null,
   "metadata": {},
   "outputs": [],
   "source": []
  },
  {
   "cell_type": "markdown",
   "metadata": {},
   "source": []
  }
 ],
 "metadata": {
  "interpreter": {
   "hash": "aee8b7b246df8f9039afb4144a1f6fd8d2ca17a180786b69acc140d282b71a49"
  },
  "kernelspec": {
   "display_name": "Python 3 (ipykernel)",
   "language": "python",
   "name": "python3"
  },
  "language_info": {
   "codemirror_mode": {
    "name": "ipython",
    "version": 3
   },
   "file_extension": ".py",
   "mimetype": "text/x-python",
   "name": "python",
   "nbconvert_exporter": "python",
   "pygments_lexer": "ipython3",
   "version": "3.9.0"
  }
 },
 "nbformat": 4,
 "nbformat_minor": 2
}
