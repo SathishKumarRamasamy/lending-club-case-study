{
 "cells": [
  {
   "cell_type": "code",
   "execution_count": null,
   "metadata": {},
   "outputs": [],
   "source": [
    "# Import needed Libraries\n",
    "import pandas as pd\n",
    "import matplotlib.pyplot as plt\n",
    "from matplotlib.lines import Line2D\n",
    "import seaborn as sns\n",
    "import warnings\n",
    "warnings.filterwarnings('ignore')"
   ]
  },
  {
   "cell_type": "code",
   "execution_count": null,
   "metadata": {},
   "outputs": [],
   "source": [
    "# Setting Plot size globally for better visualization\n",
    "plt.rcParams[\"figure.figsize\"] = (10,5)"
   ]
  },
  {
   "cell_type": "code",
   "execution_count": null,
   "metadata": {},
   "outputs": [],
   "source": [
    "# Load the dataset\n",
    "path = 'loan.csv' # Change the path here if different\n",
    "df = pd.read_csv(path)\n"
   ]
  },
  {
   "cell_type": "code",
   "execution_count": null,
   "metadata": {},
   "outputs": [],
   "source": [
    "# Understanding the data: number of entries, columns, datatypes\n",
    "df.head()"
   ]
  },
  {
   "cell_type": "code",
   "execution_count": null,
   "metadata": {},
   "outputs": [],
   "source": [
    "df.info()"
   ]
  },
  {
   "cell_type": "code",
   "execution_count": null,
   "metadata": {},
   "outputs": [],
   "source": [
    "df.describe()"
   ]
  },
  {
   "cell_type": "markdown",
   "metadata": {},
   "source": [
    "# Data Cleaning"
   ]
  },
  {
   "cell_type": "markdown",
   "metadata": {},
   "source": [
    "## Filtering Data"
   ]
  },
  {
   "cell_type": "code",
   "execution_count": null,
   "metadata": {},
   "outputs": [],
   "source": [
    "# Keeping only data relevant for the problem statement: loan status != Current\n",
    "df = df[df.loan_status != 'Current']\n",
    "df.reset_index(drop=True,inplace=True)"
   ]
  },
  {
   "cell_type": "markdown",
   "metadata": {},
   "source": [
    "## Removing unnecessary columns"
   ]
  },
  {
   "cell_type": "code",
   "execution_count": null,
   "metadata": {},
   "outputs": [],
   "source": [
    "# Listing columns with  >50% NA values \n",
    "df.dropna(axis=1,thresh=(df.shape[0]/2),how='all',inplace=True)\n",
    "\n",
    "#Dropping insignificant Columns\n",
    "df.drop(columns=['id','member_id','desc','url','title'],inplace=True)\n",
    "\n",
    "# Dropping Columns with only one unique value\n",
    "nunique = df.nunique()\n",
    "cols_to_drop = nunique[nunique == 1].index\n",
    "df.drop(cols_to_drop, axis=1,inplace=True)\n",
    "df.columns.size"
   ]
  },
  {
   "cell_type": "markdown",
   "metadata": {},
   "source": [
    "## Fixing data types"
   ]
  },
  {
   "cell_type": "code",
   "execution_count": null,
   "metadata": {},
   "outputs": [],
   "source": [
    "# Removing % \n",
    "df.int_rate = df.int_rate.apply(lambda x : float(x.replace('%','')))\n",
    "df.revol_util = df.revol_util.apply(lambda x : float(str(x).replace('%','')))"
   ]
  },
  {
   "cell_type": "code",
   "execution_count": null,
   "metadata": {},
   "outputs": [],
   "source": [
    "def correct_years_beyond_1969(dt):\n",
    "    current_year = pd.to_datetime('now').year\n",
    "    if dt.year > current_year:\n",
    "        dt = dt.replace(year=dt.year-100)\n",
    "    return dt"
   ]
  },
  {
   "cell_type": "code",
   "execution_count": null,
   "metadata": {},
   "outputs": [],
   "source": [
    "# Converting dates in string format to datetime format of pandas\n",
    "current_year = pd.to_datetime('now').year\n",
    "df.issue_d = pd.to_datetime(df.issue_d, format='%b-%y').apply(lambda x : correct_years_beyond_1969(x))\n",
    "df.earliest_cr_line = pd.to_datetime(df.earliest_cr_line,format='%b-%y').apply(lambda x : correct_years_beyond_1969(x))\n",
    "df.last_pymnt_d = pd.to_datetime(df.last_pymnt_d,format='%b-%y').apply(lambda x : correct_years_beyond_1969(x))\n",
    "df.last_credit_pull_d = pd.to_datetime(df.last_credit_pull_d,format='%b-%y').apply(lambda x : correct_years_beyond_1969(x))"
   ]
  },
  {
   "cell_type": "markdown",
   "metadata": {},
   "source": [
    "## Fix Missing Values"
   ]
  },
  {
   "cell_type": "markdown",
   "metadata": {},
   "source": [
    "### Imputing Missing Values\n"
   ]
  },
  {
   "cell_type": "code",
   "execution_count": null,
   "metadata": {},
   "outputs": [],
   "source": [
    "# Imputing Missing values for revol_util with mean\n",
    "revol_util_mean = df.revol_util.mean()\n",
    "df.revol_util.fillna(value=revol_util_mean,inplace=True)\n",
    "\n",
    "# Imputing Missing values for pub_rec_bankruptcies with median as it is a representative figure and should be a whole number\n",
    "prb_median = df.pub_rec_bankruptcies.median()\n",
    "df.pub_rec_bankruptcies.fillna(value=prb_median,inplace=True)\n",
    "\n",
    "# Imputing Missing values for emp_length with Missing year (new category)\n",
    "df.emp_length.fillna(value='Missing Year',inplace=True)\n"
   ]
  },
  {
   "cell_type": "markdown",
   "metadata": {},
   "source": [
    "## Fixing Outliers"
   ]
  },
  {
   "cell_type": "code",
   "execution_count": null,
   "metadata": {},
   "outputs": [],
   "source": [
    "# One value in below category heavily skews the variate analysis\n",
    "df.drop(df[(df.term == ' 60 months') & (df.home_ownership == 'OTHER')].index,inplace=True)\n",
    "df.drop(df[(df.purpose == 'moving') & (df.home_ownership == 'OTHER')].index,inplace=True)\n",
    "df.reset_index(drop=True,inplace=True)"
   ]
  },
  {
   "cell_type": "markdown",
   "metadata": {},
   "source": [
    "# Intermediate data separation"
   ]
  },
  {
   "cell_type": "code",
   "execution_count": null,
   "metadata": {},
   "outputs": [],
   "source": [
    "df_co =  df[df.loan_status == 'Charged Off']\n",
    "df_fp = df[df.loan_status == 'Fully Paid']"
   ]
  },
  {
   "cell_type": "markdown",
   "metadata": {},
   "source": [
    "# Reusable Functions"
   ]
  },
  {
   "cell_type": "code",
   "execution_count": null,
   "metadata": {},
   "outputs": [],
   "source": [
    "# Display Bar Height in Percentage in bar charts\n",
    "def display_bar_height_in_percent(ax):\n",
    "    for c in ax.containers:\n",
    "        #Customize the labels\n",
    "        labels = [str(v.get_height()) + '%'  if v.get_height() > 0 else '' for v in c]\n",
    "        ax.bar_label(c, labels=labels, label_type='center')\n",
    "\n",
    "# Display Median in the box plot\n",
    "def display_median_box_plot(box_plot):\n",
    "    ax = box_plot.axes\n",
    "    lines = ax.get_lines()\n",
    "    xticks = ax.get_xticks()\n",
    "    for xtick in xticks:\n",
    "        # every 4th line at the interval of 6 is median line\n",
    "        # 0 -> p25 1 -> p75 2 -> lower whisker 3 -> upper whisker 4 -> p50 5 -> upper extreme value\n",
    "        y = round(lines[4+xtick*6].get_ydata()[0],1) \n",
    "        ax.text(xtick,y,f'{y}',ha='center', va='center', fontweight='bold', size=10,color='white')"
   ]
  },
  {
   "cell_type": "markdown",
   "metadata": {},
   "source": [
    "# Univariate Analysis"
   ]
  },
  {
   "cell_type": "code",
   "execution_count": null,
   "metadata": {},
   "outputs": [],
   "source": [
    "# Univariate analysis on loan_amnt\n",
    "box_plot = sns.boxplot(y='loan_amnt',data=df)\n",
    "display_median_box_plot(box_plot)\n",
    "plt.xlabel('Loan Status')\n",
    "plt.ylabel('Loan Amount')\n",
    "plt.xticks([1],['Loan Applicants'])\n",
    "plt.title('Loan Amount Distribution')\n",
    "plt.show()\n"
   ]
  },
  {
   "cell_type": "code",
   "execution_count": null,
   "metadata": {},
   "outputs": [],
   "source": [
    "# Univariate analysis on term\n",
    "df.term.value_counts().sort_index().plot.bar()\n",
    "plt.ylabel('Frequency')\n",
    "plt.xticks(rotation=0)\n",
    "plt.title('Frequency Distribution of Loan Term')\n",
    "plt.show()"
   ]
  },
  {
   "cell_type": "code",
   "execution_count": null,
   "metadata": {},
   "outputs": [],
   "source": [
    "# Univariate analysis on Employment Length\n",
    "df.emp_length.value_counts().plot.bar()\n",
    "plt.ylabel('Frequency')\n",
    "plt.xlabel('Employment Length in years')\n",
    "plt.title('Frequency Distribution of Borrower\\'s Employment Length')\n",
    "plt.show()"
   ]
  },
  {
   "cell_type": "code",
   "execution_count": null,
   "metadata": {},
   "outputs": [],
   "source": [
    "# Univariate analysis on Home Ownership\n",
    "df.home_ownership.value_counts().plot.bar()\n",
    "plt.ylabel('Frequency')\n",
    "plt.xlabel('Home Ownership Status')\n",
    "plt.xticks(rotation=0)\n",
    "plt.title('Frequency Distribution of Home Ownership Status')\n",
    "plt.show()"
   ]
  },
  {
   "cell_type": "code",
   "execution_count": null,
   "metadata": {},
   "outputs": [],
   "source": [
    "# Univariate analysis on Verification Status\n",
    "df.verification_status.value_counts().plot.bar()\n",
    "plt.ylabel('Frequency')\n",
    "plt.xlabel('Verification Status')\n",
    "plt.xticks(rotation=0)\n",
    "plt.title('Frequency Distribution of Verification Status')\n",
    "plt.show()\n"
   ]
  },
  {
   "cell_type": "code",
   "execution_count": null,
   "metadata": {},
   "outputs": [],
   "source": [
    "# Univariate analysis on Purpose\n",
    "df.purpose.value_counts().plot.bar()\n",
    "plt.ylabel('Frequency')\n",
    "plt.xlabel('Purpose')\n",
    "plt.xticks(rotation=90)\n",
    "plt.title('Frequency Distribution of Purpose')\n",
    "plt.show()"
   ]
  },
  {
   "cell_type": "markdown",
   "metadata": {},
   "source": [
    "# Segmented Univariate Analysis"
   ]
  },
  {
   "cell_type": "code",
   "execution_count": null,
   "metadata": {},
   "outputs": [],
   "source": [
    "# Segmented Univariate analysis using loan_amnt\n",
    "box_plot = sns.boxplot(x='loan_status',y='funded_amnt',data=df)\n",
    "display_median_box_plot(box_plot)\n",
    "plt.ylabel('Funded Amount')\n",
    "plt.xlabel('Loan Status')\n",
    "plt.title('Funded Amount Distribution across loan statuses')\n",
    "plt.show()\n",
    "\"\"\"Loan Applicants with higher Funded Amount tend to default more than that of lower amounts\"\"\""
   ]
  },
  {
   "cell_type": "code",
   "execution_count": null,
   "metadata": {},
   "outputs": [],
   "source": [
    "# Segmented Univariate analysis using term\n",
    "df_grouped = df.groupby(['term','loan_status'])['loan_status'].count().unstack()\n",
    "ax = df_grouped.apply(lambda x : round(x*100/x.sum()),axis=1).plot(kind='bar', stacked=True)\n",
    "display_bar_height_in_percent(ax)\n",
    "plt.xticks(rotation=0)\n",
    "plt.ylabel('# Loan Applications')\n",
    "plt.title('Loan Status Distribution across terms')\n",
    "plt.show()\n",
    "\"\"\"Loan Applicants with the term 60 months are more likely to default than that of 36 months\"\"\""
   ]
  },
  {
   "cell_type": "code",
   "execution_count": null,
   "metadata": {},
   "outputs": [],
   "source": [
    "# Segmented Univariate analysis using int_rate\n",
    "box_plot = sns.boxplot(x='loan_status',y='int_rate',data=df)\n",
    "display_median_box_plot(box_plot)\n",
    "plt.ylabel('Interest Rate')\n",
    "plt.xlabel('Loan Status')\n",
    "plt.title('Interest Rate Distribution across loan statuses')\n",
    "plt.show()\n",
    "\n",
    "\"\"\"Loan Applicants who got loan for higher interest rates are more likely to default than that of lower interest rates\"\"\""
   ]
  },
  {
   "cell_type": "code",
   "execution_count": null,
   "metadata": {},
   "outputs": [],
   "source": [
    "# Segmented Univariate analysis using grade\n",
    "df_grouped = df.groupby(['grade','loan_status'])['loan_status'].count().unstack()\n",
    "df_grouped.apply(lambda x : round(x*100/x.sum()),axis=1).plot(kind='bar', stacked=True)\n",
    "plt.xticks(rotation=0)\n",
    "plt.ylabel('Loans Distribution (%)')\n",
    "plt.xlabel('Grade')\n",
    "plt.title('Loan Status Distribution across grades')\n",
    "plt.show()\n",
    "\n",
    "\"\"\"Loan Applicants with grades E,F,G are more likely to default than that of others. This correlates with interest rates analysis since E,F,G grades has higher interest rates\"\"\""
   ]
  },
  {
   "cell_type": "code",
   "execution_count": null,
   "metadata": {},
   "outputs": [],
   "source": [
    "# Segmented Univariate analysis using emp_length\n",
    "df_grouped = df.groupby(['emp_length','loan_status'])['loan_status'].count().unstack()\n",
    "df_grouped.apply(lambda x : round(x*100/x.sum()),axis=1).plot(kind='bar', stacked=True)\n",
    "plt.xticks(rotation=90)\n",
    "plt.ylabel('Loans Distribution (%)')\n",
    "plt.xlabel('Employment Length')\n",
    "plt.title('Loan Status Distribution (%) across Employment Length in years')\n",
    "plt.show()\n",
    "\n",
    "\"\"\"Loan Applicants with employment length of 10+years and NA tend to default more than others\"\"\""
   ]
  },
  {
   "cell_type": "code",
   "execution_count": null,
   "metadata": {},
   "outputs": [],
   "source": [
    "# Segmented Univariate analysis using home_ownership\n",
    "df_grouped = df.groupby(['home_ownership','loan_status'])['loan_status'].count().unstack()\n",
    "ax = df_grouped.apply(lambda x : round(x*100/x.sum()),axis=1).plot(kind='bar', stacked=True)\n",
    "display_bar_height_in_percent(ax)\n",
    "plt.xticks(rotation=90)\n",
    "plt.ylabel('Loans Distribution (%)')\n",
    "plt.xlabel('Home Ownership')\n",
    "plt.title('Loan Status Distribution (%) across Home Ownership')\n",
    "plt.show()\n",
    "\n",
    "\n",
    "\"\"\"Applicants with Home Ownership OTHER tend to default more than others. Interesting fact to note that Home Ownership= None has no defaulters. \"\"\""
   ]
  },
  {
   "cell_type": "code",
   "execution_count": null,
   "metadata": {},
   "outputs": [],
   "source": [
    "# Segmented Univariate analysis using annual_inc\n",
    "# Remove the outliers to make IQR visible and comparable\n",
    "box_plot = sns.boxplot(x='loan_status',y='annual_inc',data=df[df.annual_inc <= df.annual_inc.quantile(0.90)])\n",
    "display_median_box_plot(box_plot)\n",
    "plt.ylabel('Annual Income')\n",
    "plt.xlabel('Loan Status')\n",
    "plt.title('Annual Income Distribution across loan statuses')\n",
    "plt.show()\n",
    "\n",
    "\"\"\"Loan Applicants who has lesser Annual Income are likely to default than that of higher annual income\"\"\""
   ]
  },
  {
   "cell_type": "code",
   "execution_count": null,
   "metadata": {},
   "outputs": [],
   "source": [
    "# Segmented Univariate analysis using Income Verification Status\n",
    "df_grouped = df.groupby(['verification_status','loan_status'])['loan_status'].count().unstack()\n",
    "ax = df_grouped.apply(lambda x : round(x*100/x.sum()),axis=1).plot(kind='bar', stacked=True)\n",
    "display_bar_height_in_percent(ax)\n",
    "plt.xticks(rotation=0)\n",
    "plt.ylabel('Loans Distribution (%)')\n",
    "plt.xlabel('Income Verification Status')\n",
    "plt.title('Loan Status Distribution (%) across Income Verification Status')\n",
    "plt.show()\n",
    "\n",
    "\"\"\"Surprisingly, Loan Applications whose Income is verified defaults more than others by at least 2%. May be verification process needs to be revisited\"\"\""
   ]
  },
  {
   "cell_type": "code",
   "execution_count": null,
   "metadata": {},
   "outputs": [],
   "source": [
    "# Segmented Univariate analysis using purpose\n",
    "df_grouped = df.groupby(['purpose','loan_status'])['loan_status'].count().unstack()\n",
    "df_grouped.apply(lambda x : round(x*100/x.sum()),axis=1).plot(kind='bar', stacked=True)\n",
    "plt.xticks(rotation=90)\n",
    "plt.ylabel('Loans Distribution (%)')\n",
    "plt.xlabel('Purpose')\n",
    "plt.title('Loan Status Distribution (%) across Purpose')\n",
    "plt.show()\n",
    "\n",
    "\"\"\"Loan Applicants for the purpose of Small Business tend to default more than other purposes by a huge difference between 8 % - 17 %\"\"\""
   ]
  },
  {
   "cell_type": "code",
   "execution_count": null,
   "metadata": {},
   "outputs": [],
   "source": [
    "# Segmented Univariate analysis using dti\n",
    "box_plot = sns.boxplot(x='loan_status',y='dti',data=df)\n",
    "display_median_box_plot(box_plot)\n",
    "plt.ylabel('Debt to Income Ratio')\n",
    "plt.xlabel('Loan Status')\n",
    "plt.title('Debt to Income Ratio across loan statuses')\n",
    "plt.show()\n",
    "\n",
    "\"\"\"It appears that loan applications with higher debt to income ratio likely to default. But this is not a strong indicator as the difference of dti between them in mean and 75th percentile is merely ~1 \"\"\""
   ]
  },
  {
   "cell_type": "code",
   "execution_count": null,
   "metadata": {},
   "outputs": [],
   "source": [
    "# Segmented Univariate analysis using Credit Revolving Balance\n",
    "# Remove the outliers to make IQR visible and comparable\n",
    "box_plot = sns.boxplot(x='loan_status',y='dti',data=df[df.revol_bal <= df.revol_bal.quantile(0.90)])\n",
    "display_median_box_plot(box_plot)\n",
    "plt.ylabel('Credit Revolving Balance')\n",
    "plt.xlabel('Loan Status')\n",
    "plt.title('Credit Revolving Balance across loan statuses')\n",
    "plt.show()\n",
    "\n",
    "\"\"\"Loan Applications with higher credit revolving balance are more likely to default than the others. The difference is not striking though\"\"\""
   ]
  },
  {
   "cell_type": "code",
   "execution_count": null,
   "metadata": {},
   "outputs": [],
   "source": [
    "# Segmented Univariate analysis using Revolving Credit Utilization\n",
    "box_plot = sns.boxplot(x='loan_status',y='revol_util',data=df)\n",
    "display_median_box_plot(box_plot)\n",
    "plt.ylabel('Revolving Credit Utilization')\n",
    "plt.xlabel('Loan Status')\n",
    "plt.title('Revolving Credit Utilization across loan statuses')\n",
    "plt.show()\n",
    "\n",
    "\"\"\"Loan Applications with higher revolving credit utilization tend to default the loan than others\"\"\""
   ]
  },
  {
   "cell_type": "markdown",
   "metadata": {},
   "source": [
    "# Bivariate Analysis"
   ]
  },
  {
   "cell_type": "code",
   "execution_count": null,
   "metadata": {},
   "outputs": [],
   "source": [
    "# Bivariate Analysis: Loan Amount vs Funded Amount\n",
    "ax = sns.scatterplot(x='loan_amnt',y='funded_amnt',data=df,hue='loan_status')\n",
    "ax.set(xlabel='Loan Amount',ylabel='Funded Amount',title='Defaulting Rate by Loan Amount Vs Funded Amount')\n",
    "plt.show()\n",
    "\n",
    "\"\"\"There are very less defaulters when Funded Amount is same as the Loan Amount(linear relation)\"\"\"\n"
   ]
  },
  {
   "cell_type": "code",
   "execution_count": null,
   "metadata": {},
   "outputs": [],
   "source": [
    "# Bivariate Analysis: Term vs Employment Length\n",
    "df_grouped = df.groupby(['term','emp_length','loan_status'])['loan_status'].count().unstack()\n",
    "df_grouped = df_grouped.apply(lambda x : round(x*100/x.sum()),axis=1)\n",
    "df_grouped.drop(columns='Fully Paid',inplace=True)\n",
    "df_unstacked = df_grouped.unstack()\n",
    "df_unstacked.columns = df_unstacked.columns.droplevel()\n",
    "ax = sns.heatmap(df_unstacked, annot=True,cmap=sns.cm.rocket_r,cbar_kws={'label': 'defaulters %'})\n",
    "ax.set(xlabel='Employment Length',ylabel='Term',title='Defaulters % w.r.t Employment Length and Term')\n",
    "plt.show()\n",
    "\n",
    "\"\"\"Loan Applicants with employment length of 7 years and NA values tend to default more when the term of the loan is 60 months\"\"\"\n"
   ]
  },
  {
   "cell_type": "code",
   "execution_count": null,
   "metadata": {},
   "outputs": [],
   "source": [
    "# Bivariate Analysis: Term vs Home Ownership\n",
    "df_grouped = df.groupby(['term','home_ownership','loan_status'])['loan_status'].count().unstack()\n",
    "df_grouped = df_grouped.apply(lambda x : round(x*100/x.sum()),axis=1)\n",
    "df_grouped.drop(columns='Fully Paid',inplace=True)\n",
    "df_unstacked = df_grouped.unstack()\n",
    "df_unstacked.columns = df_unstacked.columns.droplevel()\n",
    "ax = sns.heatmap(df_unstacked, annot=True,cmap=sns.cm.rocket_r,cbar_kws={'label': 'defaulters %'})\n",
    "ax.set(xlabel='Home Ownership',ylabel='Term',title='Defaulters % w.r.t Home Ownership and Term')\n",
    "plt.show()\n",
    "\n",
    "\"\"\"Loan Applicants with term as 60 months and Home Ownership as OWN and RENT default more likely \"\"\"\n"
   ]
  },
  {
   "cell_type": "code",
   "execution_count": null,
   "metadata": {},
   "outputs": [],
   "source": [
    "# Bivariate Analysis: Term vs Verification Status\n",
    "df_grouped = df.groupby(['term','verification_status','loan_status'])['loan_status'].count().unstack()\n",
    "df_grouped = df_grouped.apply(lambda x : round(x*100/x.sum()),axis=1)\n",
    "df_grouped.drop(columns='Fully Paid',inplace=True)\n",
    "df_unstacked = df_grouped.unstack()\n",
    "df_unstacked.columns = df_unstacked.columns.droplevel()\n",
    "ax = sns.heatmap(df_unstacked, annot=True,cmap=sns.cm.rocket_r,cbar_kws={'label': 'defaulters %'})\n",
    "ax.set(xlabel='Income Verification Status',ylabel='Term',title='Defaulters % w.r.t Income Verification Status and Term')\n",
    "plt.show()\n",
    "\n",
    "\"\"\"Loan Applications with term as 60 months and their income verified and source verified tend to default more likely than others\"\"\""
   ]
  },
  {
   "cell_type": "code",
   "execution_count": null,
   "metadata": {},
   "outputs": [],
   "source": [
    "# Bivariate Analysis: Term vs Purpose\n",
    "df_grouped = df.groupby(['term','purpose','loan_status'])['loan_status'].count().unstack()\n",
    "df_grouped = df_grouped.apply(lambda x : round(x*100/x.sum()),axis=1)\n",
    "df_grouped.drop(columns='Fully Paid',inplace=True)\n",
    "df_unstacked = df_grouped.unstack()\n",
    "df_unstacked.columns = df_unstacked.columns.droplevel()\n",
    "ax = sns.heatmap(df_unstacked, annot=True,cmap=sns.cm.rocket_r,cbar_kws={'label': 'defaulters %'})\n",
    "ax.set(xlabel='Purpose',ylabel='Term',title='Defaulters % w.r.t Purpose and Term')\n",
    "plt.show()\n",
    "\n",
    "\"\"\"Loan Applicants with term as 60 months are more likely to default when the purpose is educational and small business\"\"\""
   ]
  },
  {
   "cell_type": "code",
   "execution_count": null,
   "metadata": {},
   "outputs": [],
   "source": [
    "# Bivariate Analysis: Term vs revol_bal\n",
    "df_filtered = df[df.revol_bal <= df.revol_bal.quantile(0.90)] # Remove Outliers to compare the data\n",
    "ax = sns.catplot(x='term',y='revol_bal',data=df_filtered,hue='loan_status',kind='box')\n",
    "ax.set(xlabel='Term',ylabel='Total Credit Revolving Balance',title='Loan Status distribution w.r.t Total Credit Revolving Balance and Term')\n",
    "plt.show()\n",
    "\n",
    "\"\"\"Loan Applicants with higher Total Credit Revolving Balance tend to default likely when the term is 60 months\"\"\""
   ]
  },
  {
   "cell_type": "code",
   "execution_count": null,
   "metadata": {},
   "outputs": [],
   "source": [
    "# Bivariate Analysis: Emp Length vs Home Ownership\n",
    "df_grouped = df.groupby(['emp_length','home_ownership','loan_status'])['loan_status'].count().unstack()\n",
    "df_grouped = df_grouped.apply(lambda x : round(x*100/x.sum()),axis=1)\n",
    "df_grouped.drop(columns='Fully Paid',inplace=True)\n",
    "df_unstacked = df_grouped.unstack()\n",
    "df_unstacked.columns = df_unstacked.columns.droplevel()\n",
    "ax = sns.heatmap(df_unstacked, annot=True,cmap=sns.cm.rocket_r,cbar_kws={'label': 'defaulters %'})\n",
    "ax.set(xlabel='Home Ownership',ylabel='Employment Length',title='Defaulters % w.r.t Home Ownership and Employment Length')\n",
    "plt.show()\n",
    "\n",
    "\n",
    "\"\"\"Loan Applicants with OTHER home ownership tend to default more when their employment length is 7 years or 3 years\"\"\""
   ]
  },
  {
   "cell_type": "code",
   "execution_count": null,
   "metadata": {},
   "outputs": [],
   "source": [
    "# Bivariate Analysis: Emp Length vs Purpose\n",
    "df_grouped = df.groupby(['emp_length','purpose','loan_status'])['loan_status'].count().unstack()\n",
    "df_grouped = df_grouped.apply(lambda x : round(x*100/x.sum()),axis=1)\n",
    "df_grouped.drop(columns='Fully Paid',inplace=True)\n",
    "df_unstacked = df_grouped.unstack()\n",
    "df_unstacked.columns = df_unstacked.columns.droplevel()\n",
    "ax = sns.heatmap(df_unstacked, annot=True,cmap=sns.cm.rocket_r,cbar_kws={'label': 'defaulters %'})\n",
    "ax.set(xlabel='Purpose',ylabel='Employment Length',title='Defaulters % w.r.t Purpose and Employment Length')\n",
    "plt.show()\n",
    "\n",
    "\"\"\"Loan Applicants for purpose as renewable energy tend to likely default when their employment length is 4 years or 8 years. Also, Loan Applicants with no employment length specified tend to default more for educational purpose\"\"\"\n"
   ]
  },
  {
   "cell_type": "code",
   "execution_count": null,
   "metadata": {},
   "outputs": [],
   "source": [
    "# Bivariate Analysis: Home ownership vs Purpose\n",
    "df_grouped = df.groupby(['home_ownership','purpose','loan_status'])['loan_status'].count().unstack()\n",
    "df_grouped = df_grouped.apply(lambda x : round(x*100/x.sum()),axis=1)\n",
    "df_grouped.drop(columns='Fully Paid',inplace=True)\n",
    "df_unstacked = df_grouped.unstack()\n",
    "df_unstacked.columns = df_unstacked.columns.droplevel()\n",
    "ax = sns.heatmap(df_unstacked, annot=True,cmap=sns.cm.rocket_r,cbar_kws={'label': 'defaulters %'})\n",
    "ax.set(xlabel='Purpose',ylabel='Home Ownership',title='Defaulters % w.r.t Purpose and Home Ownership')\n",
    "plt.show()\n",
    "\n",
    "\"\"\"Loan Applicants for the purpose of small business tend to default more across RENT, OWN and OTHER home ownerships. Also, Car - OTHER combination seem to default likely\"\"\""
   ]
  }
 ],
 "metadata": {
  "interpreter": {
   "hash": "aee8b7b246df8f9039afb4144a1f6fd8d2ca17a180786b69acc140d282b71a49"
  },
  "kernelspec": {
   "display_name": "Python 3 (ipykernel)",
   "language": "python",
   "name": "python3"
  },
  "language_info": {
   "codemirror_mode": {
    "name": "ipython",
    "version": 3
   },
   "file_extension": ".py",
   "mimetype": "text/x-python",
   "name": "python",
   "nbconvert_exporter": "python",
   "pygments_lexer": "ipython3",
   "version": "3.9.0"
  }
 },
 "nbformat": 4,
 "nbformat_minor": 2
}
